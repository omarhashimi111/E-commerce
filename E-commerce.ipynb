{
 "cells": [
  {
   "cell_type": "markdown",
   "id": "f2006d2b-ca56-4fe9-b075-78d71f3bce5e",
   "metadata": {},
   "source": [
    "# About Dataset\n",
    "## Context\n",
    "E-commerce has become a new channel to support businesses development. Through e-commerce, businesses can get access and establish a wider market presence by providing cheaper and more efficient distribution channels for their products or services. E-commerce has also changed the way people shop and consume products and services. Many people are turning to their computers or smart devices to order goods, which can easily be delivered to their homes.\n",
    "\n",
    "## Content\n",
    "This is a sales transaction data set of UK-based e-commerce (online retail) for one year. This London-based shop has been selling gifts and homewares for adults and children through the website since 2007. Their customers come from all over the world and usually make direct purchases for themselves. There are also small businesses that buy in bulk and sell to other customers through retail outlet channels.\n",
    "\n",
    "The data set contains 500K rows and 8 columns. The following is the description of each column.\n",
    "\n",
    "TransactionNo (categorical): a six-digit unique number that defines each transaction. The letter “C” in the code indicates a cancellation.\n",
    "Date (numeric): the date when each transaction was generated.\n",
    "ProductNo (categorical): a five or six-digit unique character used to identify a specific product.\n",
    "Product (categorical): product/item name.\n",
    "Price (numeric): the price of each product per unit in pound sterling (£).\n",
    "Quantity (numeric): the quantity of each product per transaction. Negative values related to cancelled transactions.\n",
    "CustomerNo (categorical): a five-digit unique number that defines each customer.\n",
    "Country (categorical): name of the country where the customer resides.\n",
    "There is a small percentage of order cancellation in the data set. Most of these cancellations were due to out-of-stock conditions on some products. Under this situation, customers tend to cancel an order as they want all products delivered all at once.\n",
    "\n",
    "## Inspiration\n",
    "Information is a main asset of businesses nowadays. The success of a business in a competitive environment depends on its ability to acquire, store, and utilize information. Data is one of the main sources of information. Therefore, data analysis is an important activity for acquiring new and useful information. Analyze this dataset and try to answer the following questions.\n",
    "\n",
    "### How was the sales trend over the months?\n",
    "### What are the most frequently purchased products?\n",
    "### How many products does the customer purchase in each transaction?\n",
    "### What are the most profitable segment customers?\n",
    "### Based on your findings, what strategy could you recommend to the business to gain more profit?"
   ]
  },
  {
   "cell_type": "code",
   "execution_count": 67,
   "id": "60fce35e-b866-431b-9d9c-77450f3c3f9a",
   "metadata": {
    "tags": []
   },
   "outputs": [],
   "source": [
    "# importing modules\n",
    "\n",
    "import pandas as pd\n",
    "import numpy as np\n",
    "import matplotlib.pyplot as plt\n",
    "import seaborn as sns\n",
    "plt.style.use(\"ggplot\")\n",
    "# to show more columns\n",
    "pd.set_option(\"max_column\",100)"
   ]
  },
  {
   "cell_type": "code",
   "execution_count": 68,
   "id": "02379471-ffd5-45d6-9d73-fb95034e11ea",
   "metadata": {
    "tags": []
   },
   "outputs": [
    {
     "data": {
      "text/html": [
       "<div>\n",
       "<style scoped>\n",
       "    .dataframe tbody tr th:only-of-type {\n",
       "        vertical-align: middle;\n",
       "    }\n",
       "\n",
       "    .dataframe tbody tr th {\n",
       "        vertical-align: top;\n",
       "    }\n",
       "\n",
       "    .dataframe thead th {\n",
       "        text-align: right;\n",
       "    }\n",
       "</style>\n",
       "<table border=\"1\" class=\"dataframe\">\n",
       "  <thead>\n",
       "    <tr style=\"text-align: right;\">\n",
       "      <th></th>\n",
       "      <th>TransactionNo</th>\n",
       "      <th>Date</th>\n",
       "      <th>ProductNo</th>\n",
       "      <th>ProductName</th>\n",
       "      <th>Price</th>\n",
       "      <th>Quantity</th>\n",
       "      <th>CustomerNo</th>\n",
       "      <th>Country</th>\n",
       "    </tr>\n",
       "  </thead>\n",
       "  <tbody>\n",
       "    <tr>\n",
       "      <th>0</th>\n",
       "      <td>581482</td>\n",
       "      <td>12/9/2019</td>\n",
       "      <td>22485</td>\n",
       "      <td>Set Of 2 Wooden Market Crates</td>\n",
       "      <td>21.47</td>\n",
       "      <td>12</td>\n",
       "      <td>17490.0</td>\n",
       "      <td>United Kingdom</td>\n",
       "    </tr>\n",
       "    <tr>\n",
       "      <th>1</th>\n",
       "      <td>581475</td>\n",
       "      <td>12/9/2019</td>\n",
       "      <td>22596</td>\n",
       "      <td>Christmas Star Wish List Chalkboard</td>\n",
       "      <td>10.65</td>\n",
       "      <td>36</td>\n",
       "      <td>13069.0</td>\n",
       "      <td>United Kingdom</td>\n",
       "    </tr>\n",
       "    <tr>\n",
       "      <th>2</th>\n",
       "      <td>581475</td>\n",
       "      <td>12/9/2019</td>\n",
       "      <td>23235</td>\n",
       "      <td>Storage Tin Vintage Leaf</td>\n",
       "      <td>11.53</td>\n",
       "      <td>12</td>\n",
       "      <td>13069.0</td>\n",
       "      <td>United Kingdom</td>\n",
       "    </tr>\n",
       "    <tr>\n",
       "      <th>3</th>\n",
       "      <td>581475</td>\n",
       "      <td>12/9/2019</td>\n",
       "      <td>23272</td>\n",
       "      <td>Tree T-Light Holder Willie Winkie</td>\n",
       "      <td>10.65</td>\n",
       "      <td>12</td>\n",
       "      <td>13069.0</td>\n",
       "      <td>United Kingdom</td>\n",
       "    </tr>\n",
       "    <tr>\n",
       "      <th>4</th>\n",
       "      <td>581475</td>\n",
       "      <td>12/9/2019</td>\n",
       "      <td>23239</td>\n",
       "      <td>Set Of 4 Knick Knack Tins Poppies</td>\n",
       "      <td>11.94</td>\n",
       "      <td>6</td>\n",
       "      <td>13069.0</td>\n",
       "      <td>United Kingdom</td>\n",
       "    </tr>\n",
       "  </tbody>\n",
       "</table>\n",
       "</div>"
      ],
      "text/plain": [
       "  TransactionNo       Date ProductNo                          ProductName  \\\n",
       "0        581482  12/9/2019     22485        Set Of 2 Wooden Market Crates   \n",
       "1        581475  12/9/2019     22596  Christmas Star Wish List Chalkboard   \n",
       "2        581475  12/9/2019     23235             Storage Tin Vintage Leaf   \n",
       "3        581475  12/9/2019     23272    Tree T-Light Holder Willie Winkie   \n",
       "4        581475  12/9/2019     23239    Set Of 4 Knick Knack Tins Poppies   \n",
       "\n",
       "   Price  Quantity  CustomerNo         Country  \n",
       "0  21.47        12     17490.0  United Kingdom  \n",
       "1  10.65        36     13069.0  United Kingdom  \n",
       "2  11.53        12     13069.0  United Kingdom  \n",
       "3  10.65        12     13069.0  United Kingdom  \n",
       "4  11.94         6     13069.0  United Kingdom  "
      ]
     },
     "execution_count": 68,
     "metadata": {},
     "output_type": "execute_result"
    }
   ],
   "source": [
    "df = pd.read_csv(\"/home/omar/Downloads/Sales Transaction v.4a.csv\")\n",
    "df.head()"
   ]
  },
  {
   "cell_type": "code",
   "execution_count": 69,
   "id": "0c990a0c-8184-46a9-b84c-328a93695343",
   "metadata": {
    "tags": []
   },
   "outputs": [
    {
     "data": {
      "text/plain": [
       "TransactionNo     object\n",
       "Date              object\n",
       "ProductNo         object\n",
       "ProductName       object\n",
       "Price            float64\n",
       "Quantity           int64\n",
       "CustomerNo       float64\n",
       "Country           object\n",
       "dtype: object"
      ]
     },
     "execution_count": 69,
     "metadata": {},
     "output_type": "execute_result"
    }
   ],
   "source": [
    "df.dtypes"
   ]
  },
  {
   "cell_type": "code",
   "execution_count": 70,
   "id": "8780622d-cd4a-46bb-af55-4e50155df59c",
   "metadata": {
    "tags": []
   },
   "outputs": [
    {
     "data": {
      "text/plain": [
       "(536350, 8)"
      ]
     },
     "execution_count": 70,
     "metadata": {},
     "output_type": "execute_result"
    }
   ],
   "source": [
    "df.shape"
   ]
  },
  {
   "cell_type": "code",
   "execution_count": 72,
   "id": "9b6d628f-b1c4-4c61-98a6-1aa6c934062c",
   "metadata": {
    "tags": []
   },
   "outputs": [],
   "source": [
    "# want to drop duplicated values those has the same value in all columns\n",
    "\n",
    "df.drop_duplicates(keep=\"first\",inplace=True) #keep first occourance drop others. subset=[\"column\",\"column\"]"
   ]
  },
  {
   "cell_type": "code",
   "execution_count": 73,
   "id": "a0f7d272-00d9-4843-80eb-640fc7dacd80",
   "metadata": {
    "tags": []
   },
   "outputs": [
    {
     "data": {
      "text/plain": [
       "(531150, 8)"
      ]
     },
     "execution_count": 73,
     "metadata": {},
     "output_type": "execute_result"
    }
   ],
   "source": [
    "# looks like we had some duplicates we get raid of \n",
    "\n",
    "df.shape"
   ]
  },
  {
   "cell_type": "code",
   "execution_count": 74,
   "id": "491c29b1-df8e-4dc5-81ee-2d006fe21bcc",
   "metadata": {
    "tags": []
   },
   "outputs": [
    {
     "data": {
      "text/plain": [
       "5200"
      ]
     },
     "execution_count": 74,
     "metadata": {},
     "output_type": "execute_result"
    }
   ],
   "source": [
    "# the amount of duplicates we had\n",
    "536350 - 531150"
   ]
  },
  {
   "cell_type": "markdown",
   "id": "9bcacc07-fa0c-4d7a-b2ec-bc4bac56c305",
   "metadata": {},
   "source": [
    "### Exploring and cleaning date starting with all null values"
   ]
  },
  {
   "cell_type": "code",
   "execution_count": 75,
   "id": "9badfa26-29e8-410f-924a-caa8821b2edf",
   "metadata": {
    "tags": []
   },
   "outputs": [
    {
     "data": {
      "text/plain": [
       "(531150, 8)"
      ]
     },
     "execution_count": 75,
     "metadata": {},
     "output_type": "execute_result"
    }
   ],
   "source": [
    "# now i will delete all rows with no value in it empty rows\n",
    "# looks like we did not have any\n",
    "\n",
    "df = df.dropna(how=\"all\")\n",
    "df.shape"
   ]
  },
  {
   "cell_type": "code",
   "execution_count": 77,
   "id": "0d394206-f24f-4cf9-af55-a380e8f2b8e6",
   "metadata": {
    "tags": []
   },
   "outputs": [
    {
     "data": {
      "text/plain": [
       "array(['United Kingdom', 'Norway', 'Belgium', 'Germany', 'France',\n",
       "       'Austria', 'Netherlands', 'EIRE', 'USA', 'Channel Islands',\n",
       "       'Iceland', 'Portugal', 'Spain', 'Finland', 'Italy', 'Greece',\n",
       "       'Japan', 'Sweden', 'Denmark', 'Cyprus', 'Malta', 'Switzerland',\n",
       "       'Australia', 'Czech Republic', 'Poland', 'Hong Kong', 'Singapore',\n",
       "       'RSA', 'Israel', 'Unspecified', 'United Arab Emirates', 'Canada',\n",
       "       'European Community', 'Bahrain', 'Brazil', 'Saudi Arabia',\n",
       "       'Lebanon', 'Lithuania'], dtype=object)"
      ]
     },
     "execution_count": 77,
     "metadata": {},
     "output_type": "execute_result"
    }
   ],
   "source": [
    "df.Country.unique()"
   ]
  },
  {
   "cell_type": "code",
   "execution_count": 78,
   "id": "4180a0e2-cf7f-41bd-9af0-0d3655e8099a",
   "metadata": {
    "tags": []
   },
   "outputs": [
    {
     "data": {
      "text/html": [
       "<div>\n",
       "<style scoped>\n",
       "    .dataframe tbody tr th:only-of-type {\n",
       "        vertical-align: middle;\n",
       "    }\n",
       "\n",
       "    .dataframe tbody tr th {\n",
       "        vertical-align: top;\n",
       "    }\n",
       "\n",
       "    .dataframe thead th {\n",
       "        text-align: right;\n",
       "    }\n",
       "</style>\n",
       "<table border=\"1\" class=\"dataframe\">\n",
       "  <thead>\n",
       "    <tr style=\"text-align: right;\">\n",
       "      <th></th>\n",
       "      <th>TransactionNo</th>\n",
       "      <th>Date</th>\n",
       "      <th>ProductNo</th>\n",
       "      <th>ProductName</th>\n",
       "      <th>Price</th>\n",
       "      <th>Quantity</th>\n",
       "      <th>CustomerNo</th>\n",
       "      <th>Country</th>\n",
       "      <th>total</th>\n",
       "    </tr>\n",
       "  </thead>\n",
       "  <tbody>\n",
       "    <tr>\n",
       "      <th>0</th>\n",
       "      <td>581482</td>\n",
       "      <td>12/9/2019</td>\n",
       "      <td>22485</td>\n",
       "      <td>Set Of 2 Wooden Market Crates</td>\n",
       "      <td>21.47</td>\n",
       "      <td>12</td>\n",
       "      <td>17490.0</td>\n",
       "      <td>United Kingdom</td>\n",
       "      <td>257.64</td>\n",
       "    </tr>\n",
       "    <tr>\n",
       "      <th>1</th>\n",
       "      <td>581475</td>\n",
       "      <td>12/9/2019</td>\n",
       "      <td>22596</td>\n",
       "      <td>Christmas Star Wish List Chalkboard</td>\n",
       "      <td>10.65</td>\n",
       "      <td>36</td>\n",
       "      <td>13069.0</td>\n",
       "      <td>United Kingdom</td>\n",
       "      <td>383.40</td>\n",
       "    </tr>\n",
       "    <tr>\n",
       "      <th>2</th>\n",
       "      <td>581475</td>\n",
       "      <td>12/9/2019</td>\n",
       "      <td>23235</td>\n",
       "      <td>Storage Tin Vintage Leaf</td>\n",
       "      <td>11.53</td>\n",
       "      <td>12</td>\n",
       "      <td>13069.0</td>\n",
       "      <td>United Kingdom</td>\n",
       "      <td>138.36</td>\n",
       "    </tr>\n",
       "    <tr>\n",
       "      <th>3</th>\n",
       "      <td>581475</td>\n",
       "      <td>12/9/2019</td>\n",
       "      <td>23272</td>\n",
       "      <td>Tree T-Light Holder Willie Winkie</td>\n",
       "      <td>10.65</td>\n",
       "      <td>12</td>\n",
       "      <td>13069.0</td>\n",
       "      <td>United Kingdom</td>\n",
       "      <td>127.80</td>\n",
       "    </tr>\n",
       "    <tr>\n",
       "      <th>4</th>\n",
       "      <td>581475</td>\n",
       "      <td>12/9/2019</td>\n",
       "      <td>23239</td>\n",
       "      <td>Set Of 4 Knick Knack Tins Poppies</td>\n",
       "      <td>11.94</td>\n",
       "      <td>6</td>\n",
       "      <td>13069.0</td>\n",
       "      <td>United Kingdom</td>\n",
       "      <td>71.64</td>\n",
       "    </tr>\n",
       "  </tbody>\n",
       "</table>\n",
       "</div>"
      ],
      "text/plain": [
       "  TransactionNo       Date ProductNo                          ProductName  \\\n",
       "0        581482  12/9/2019     22485        Set Of 2 Wooden Market Crates   \n",
       "1        581475  12/9/2019     22596  Christmas Star Wish List Chalkboard   \n",
       "2        581475  12/9/2019     23235             Storage Tin Vintage Leaf   \n",
       "3        581475  12/9/2019     23272    Tree T-Light Holder Willie Winkie   \n",
       "4        581475  12/9/2019     23239    Set Of 4 Knick Knack Tins Poppies   \n",
       "\n",
       "   Price  Quantity  CustomerNo         Country   total  \n",
       "0  21.47        12     17490.0  United Kingdom  257.64  \n",
       "1  10.65        36     13069.0  United Kingdom  383.40  \n",
       "2  11.53        12     13069.0  United Kingdom  138.36  \n",
       "3  10.65        12     13069.0  United Kingdom  127.80  \n",
       "4  11.94         6     13069.0  United Kingdom   71.64  "
      ]
     },
     "execution_count": 78,
     "metadata": {},
     "output_type": "execute_result"
    }
   ],
   "source": [
    "# creating a new column total\n",
    "\n",
    "df[\"total\"] = df.Price * df.Quantity\n",
    "df.head()"
   ]
  },
  {
   "cell_type": "code",
   "execution_count": 79,
   "id": "5a2ff171-8912-4468-96e9-e950dd197e85",
   "metadata": {
    "tags": []
   },
   "outputs": [
    {
     "data": {
      "text/html": [
       "<div>\n",
       "<style scoped>\n",
       "    .dataframe tbody tr th:only-of-type {\n",
       "        vertical-align: middle;\n",
       "    }\n",
       "\n",
       "    .dataframe tbody tr th {\n",
       "        vertical-align: top;\n",
       "    }\n",
       "\n",
       "    .dataframe thead th {\n",
       "        text-align: right;\n",
       "    }\n",
       "</style>\n",
       "<table border=\"1\" class=\"dataframe\">\n",
       "  <thead>\n",
       "    <tr style=\"text-align: right;\">\n",
       "      <th></th>\n",
       "      <th>TransactionNo</th>\n",
       "      <th>Date</th>\n",
       "      <th>ProductNo</th>\n",
       "      <th>ProductName</th>\n",
       "      <th>Price</th>\n",
       "      <th>Quantity</th>\n",
       "      <th>CustomerNo</th>\n",
       "      <th>Country</th>\n",
       "      <th>total</th>\n",
       "      <th>year</th>\n",
       "      <th>month</th>\n",
       "    </tr>\n",
       "  </thead>\n",
       "  <tbody>\n",
       "    <tr>\n",
       "      <th>0</th>\n",
       "      <td>581482</td>\n",
       "      <td>12/9/2019</td>\n",
       "      <td>22485</td>\n",
       "      <td>Set Of 2 Wooden Market Crates</td>\n",
       "      <td>21.47</td>\n",
       "      <td>12</td>\n",
       "      <td>17490.0</td>\n",
       "      <td>United Kingdom</td>\n",
       "      <td>257.64</td>\n",
       "      <td>2019</td>\n",
       "      <td>12</td>\n",
       "    </tr>\n",
       "    <tr>\n",
       "      <th>1</th>\n",
       "      <td>581475</td>\n",
       "      <td>12/9/2019</td>\n",
       "      <td>22596</td>\n",
       "      <td>Christmas Star Wish List Chalkboard</td>\n",
       "      <td>10.65</td>\n",
       "      <td>36</td>\n",
       "      <td>13069.0</td>\n",
       "      <td>United Kingdom</td>\n",
       "      <td>383.40</td>\n",
       "      <td>2019</td>\n",
       "      <td>12</td>\n",
       "    </tr>\n",
       "    <tr>\n",
       "      <th>2</th>\n",
       "      <td>581475</td>\n",
       "      <td>12/9/2019</td>\n",
       "      <td>23235</td>\n",
       "      <td>Storage Tin Vintage Leaf</td>\n",
       "      <td>11.53</td>\n",
       "      <td>12</td>\n",
       "      <td>13069.0</td>\n",
       "      <td>United Kingdom</td>\n",
       "      <td>138.36</td>\n",
       "      <td>2019</td>\n",
       "      <td>12</td>\n",
       "    </tr>\n",
       "    <tr>\n",
       "      <th>3</th>\n",
       "      <td>581475</td>\n",
       "      <td>12/9/2019</td>\n",
       "      <td>23272</td>\n",
       "      <td>Tree T-Light Holder Willie Winkie</td>\n",
       "      <td>10.65</td>\n",
       "      <td>12</td>\n",
       "      <td>13069.0</td>\n",
       "      <td>United Kingdom</td>\n",
       "      <td>127.80</td>\n",
       "      <td>2019</td>\n",
       "      <td>12</td>\n",
       "    </tr>\n",
       "    <tr>\n",
       "      <th>4</th>\n",
       "      <td>581475</td>\n",
       "      <td>12/9/2019</td>\n",
       "      <td>23239</td>\n",
       "      <td>Set Of 4 Knick Knack Tins Poppies</td>\n",
       "      <td>11.94</td>\n",
       "      <td>6</td>\n",
       "      <td>13069.0</td>\n",
       "      <td>United Kingdom</td>\n",
       "      <td>71.64</td>\n",
       "      <td>2019</td>\n",
       "      <td>12</td>\n",
       "    </tr>\n",
       "    <tr>\n",
       "      <th>...</th>\n",
       "      <td>...</td>\n",
       "      <td>...</td>\n",
       "      <td>...</td>\n",
       "      <td>...</td>\n",
       "      <td>...</td>\n",
       "      <td>...</td>\n",
       "      <td>...</td>\n",
       "      <td>...</td>\n",
       "      <td>...</td>\n",
       "      <td>...</td>\n",
       "      <td>...</td>\n",
       "    </tr>\n",
       "    <tr>\n",
       "      <th>536345</th>\n",
       "      <td>C536548</td>\n",
       "      <td>12/1/2018</td>\n",
       "      <td>22168</td>\n",
       "      <td>Organiser Wood Antique White</td>\n",
       "      <td>18.96</td>\n",
       "      <td>-2</td>\n",
       "      <td>12472.0</td>\n",
       "      <td>Germany</td>\n",
       "      <td>-37.92</td>\n",
       "      <td>2018</td>\n",
       "      <td>12</td>\n",
       "    </tr>\n",
       "    <tr>\n",
       "      <th>536346</th>\n",
       "      <td>C536548</td>\n",
       "      <td>12/1/2018</td>\n",
       "      <td>21218</td>\n",
       "      <td>Red Spotty Biscuit Tin</td>\n",
       "      <td>14.09</td>\n",
       "      <td>-3</td>\n",
       "      <td>12472.0</td>\n",
       "      <td>Germany</td>\n",
       "      <td>-42.27</td>\n",
       "      <td>2018</td>\n",
       "      <td>12</td>\n",
       "    </tr>\n",
       "    <tr>\n",
       "      <th>536347</th>\n",
       "      <td>C536548</td>\n",
       "      <td>12/1/2018</td>\n",
       "      <td>20957</td>\n",
       "      <td>Porcelain Hanging Bell Small</td>\n",
       "      <td>11.74</td>\n",
       "      <td>-1</td>\n",
       "      <td>12472.0</td>\n",
       "      <td>Germany</td>\n",
       "      <td>-11.74</td>\n",
       "      <td>2018</td>\n",
       "      <td>12</td>\n",
       "    </tr>\n",
       "    <tr>\n",
       "      <th>536348</th>\n",
       "      <td>C536548</td>\n",
       "      <td>12/1/2018</td>\n",
       "      <td>22580</td>\n",
       "      <td>Advent Calendar Gingham Sack</td>\n",
       "      <td>16.35</td>\n",
       "      <td>-4</td>\n",
       "      <td>12472.0</td>\n",
       "      <td>Germany</td>\n",
       "      <td>-65.40</td>\n",
       "      <td>2018</td>\n",
       "      <td>12</td>\n",
       "    </tr>\n",
       "    <tr>\n",
       "      <th>536349</th>\n",
       "      <td>C536548</td>\n",
       "      <td>12/1/2018</td>\n",
       "      <td>22767</td>\n",
       "      <td>Triple Photo Frame Cornice</td>\n",
       "      <td>20.45</td>\n",
       "      <td>-2</td>\n",
       "      <td>12472.0</td>\n",
       "      <td>Germany</td>\n",
       "      <td>-40.90</td>\n",
       "      <td>2018</td>\n",
       "      <td>12</td>\n",
       "    </tr>\n",
       "  </tbody>\n",
       "</table>\n",
       "<p>531150 rows × 11 columns</p>\n",
       "</div>"
      ],
      "text/plain": [
       "       TransactionNo       Date ProductNo  \\\n",
       "0             581482  12/9/2019     22485   \n",
       "1             581475  12/9/2019     22596   \n",
       "2             581475  12/9/2019     23235   \n",
       "3             581475  12/9/2019     23272   \n",
       "4             581475  12/9/2019     23239   \n",
       "...              ...        ...       ...   \n",
       "536345       C536548  12/1/2018     22168   \n",
       "536346       C536548  12/1/2018     21218   \n",
       "536347       C536548  12/1/2018     20957   \n",
       "536348       C536548  12/1/2018     22580   \n",
       "536349       C536548  12/1/2018     22767   \n",
       "\n",
       "                                ProductName  Price  Quantity  CustomerNo  \\\n",
       "0             Set Of 2 Wooden Market Crates  21.47        12     17490.0   \n",
       "1       Christmas Star Wish List Chalkboard  10.65        36     13069.0   \n",
       "2                  Storage Tin Vintage Leaf  11.53        12     13069.0   \n",
       "3         Tree T-Light Holder Willie Winkie  10.65        12     13069.0   \n",
       "4         Set Of 4 Knick Knack Tins Poppies  11.94         6     13069.0   \n",
       "...                                     ...    ...       ...         ...   \n",
       "536345         Organiser Wood Antique White  18.96        -2     12472.0   \n",
       "536346               Red Spotty Biscuit Tin  14.09        -3     12472.0   \n",
       "536347         Porcelain Hanging Bell Small  11.74        -1     12472.0   \n",
       "536348         Advent Calendar Gingham Sack  16.35        -4     12472.0   \n",
       "536349           Triple Photo Frame Cornice  20.45        -2     12472.0   \n",
       "\n",
       "               Country   total  year  month  \n",
       "0       United Kingdom  257.64  2019     12  \n",
       "1       United Kingdom  383.40  2019     12  \n",
       "2       United Kingdom  138.36  2019     12  \n",
       "3       United Kingdom  127.80  2019     12  \n",
       "4       United Kingdom   71.64  2019     12  \n",
       "...                ...     ...   ...    ...  \n",
       "536345         Germany  -37.92  2018     12  \n",
       "536346         Germany  -42.27  2018     12  \n",
       "536347         Germany  -11.74  2018     12  \n",
       "536348         Germany  -65.40  2018     12  \n",
       "536349         Germany  -40.90  2018     12  \n",
       "\n",
       "[531150 rows x 11 columns]"
      ]
     },
     "execution_count": 79,
     "metadata": {},
     "output_type": "execute_result"
    }
   ],
   "source": [
    "# creating year column\n",
    "\n",
    "df[\"year\"] = pd.to_datetime(df.Date).dt.year\n",
    "\n",
    "# creating the month column\n",
    "df[\"month\"] = pd.to_datetime(df.Date).dt.month\n",
    "df"
   ]
  },
  {
   "cell_type": "code",
   "execution_count": 80,
   "id": "22c8c3d7-96e5-4487-9659-0abc8bd2043c",
   "metadata": {
    "tags": []
   },
   "outputs": [
    {
     "data": {
      "text/html": [
       "<div>\n",
       "<style scoped>\n",
       "    .dataframe tbody tr th:only-of-type {\n",
       "        vertical-align: middle;\n",
       "    }\n",
       "\n",
       "    .dataframe tbody tr th {\n",
       "        vertical-align: top;\n",
       "    }\n",
       "\n",
       "    .dataframe thead th {\n",
       "        text-align: right;\n",
       "    }\n",
       "</style>\n",
       "<table border=\"1\" class=\"dataframe\">\n",
       "  <thead>\n",
       "    <tr style=\"text-align: right;\">\n",
       "      <th></th>\n",
       "      <th>TransactionNo</th>\n",
       "      <th>Date</th>\n",
       "      <th>ProductNo</th>\n",
       "      <th>ProductName</th>\n",
       "      <th>Price</th>\n",
       "      <th>Quantity</th>\n",
       "      <th>CustomerNo</th>\n",
       "      <th>Country</th>\n",
       "      <th>total</th>\n",
       "      <th>year</th>\n",
       "      <th>month</th>\n",
       "    </tr>\n",
       "  </thead>\n",
       "  <tbody>\n",
       "    <tr>\n",
       "      <th>0</th>\n",
       "      <td>581482</td>\n",
       "      <td>12/9/2019</td>\n",
       "      <td>22485</td>\n",
       "      <td>Set Of 2 Wooden Market Crates</td>\n",
       "      <td>21.47</td>\n",
       "      <td>12</td>\n",
       "      <td>17490.0</td>\n",
       "      <td>United Kingdom</td>\n",
       "      <td>257.64</td>\n",
       "      <td>2019</td>\n",
       "      <td>12</td>\n",
       "    </tr>\n",
       "    <tr>\n",
       "      <th>1</th>\n",
       "      <td>581475</td>\n",
       "      <td>12/9/2019</td>\n",
       "      <td>22596</td>\n",
       "      <td>Christmas Star Wish List Chalkboard</td>\n",
       "      <td>10.65</td>\n",
       "      <td>36</td>\n",
       "      <td>13069.0</td>\n",
       "      <td>United Kingdom</td>\n",
       "      <td>383.40</td>\n",
       "      <td>2019</td>\n",
       "      <td>12</td>\n",
       "    </tr>\n",
       "    <tr>\n",
       "      <th>2</th>\n",
       "      <td>581475</td>\n",
       "      <td>12/9/2019</td>\n",
       "      <td>23235</td>\n",
       "      <td>Storage Tin Vintage Leaf</td>\n",
       "      <td>11.53</td>\n",
       "      <td>12</td>\n",
       "      <td>13069.0</td>\n",
       "      <td>United Kingdom</td>\n",
       "      <td>138.36</td>\n",
       "      <td>2019</td>\n",
       "      <td>12</td>\n",
       "    </tr>\n",
       "    <tr>\n",
       "      <th>3</th>\n",
       "      <td>581475</td>\n",
       "      <td>12/9/2019</td>\n",
       "      <td>23272</td>\n",
       "      <td>Tree T-Light Holder Willie Winkie</td>\n",
       "      <td>10.65</td>\n",
       "      <td>12</td>\n",
       "      <td>13069.0</td>\n",
       "      <td>United Kingdom</td>\n",
       "      <td>127.80</td>\n",
       "      <td>2019</td>\n",
       "      <td>12</td>\n",
       "    </tr>\n",
       "    <tr>\n",
       "      <th>4</th>\n",
       "      <td>581475</td>\n",
       "      <td>12/9/2019</td>\n",
       "      <td>23239</td>\n",
       "      <td>Set Of 4 Knick Knack Tins Poppies</td>\n",
       "      <td>11.94</td>\n",
       "      <td>6</td>\n",
       "      <td>13069.0</td>\n",
       "      <td>United Kingdom</td>\n",
       "      <td>71.64</td>\n",
       "      <td>2019</td>\n",
       "      <td>12</td>\n",
       "    </tr>\n",
       "  </tbody>\n",
       "</table>\n",
       "</div>"
      ],
      "text/plain": [
       "  TransactionNo       Date ProductNo                          ProductName  \\\n",
       "0        581482  12/9/2019     22485        Set Of 2 Wooden Market Crates   \n",
       "1        581475  12/9/2019     22596  Christmas Star Wish List Chalkboard   \n",
       "2        581475  12/9/2019     23235             Storage Tin Vintage Leaf   \n",
       "3        581475  12/9/2019     23272    Tree T-Light Holder Willie Winkie   \n",
       "4        581475  12/9/2019     23239    Set Of 4 Knick Knack Tins Poppies   \n",
       "\n",
       "   Price  Quantity  CustomerNo         Country   total  year  month  \n",
       "0  21.47        12     17490.0  United Kingdom  257.64  2019     12  \n",
       "1  10.65        36     13069.0  United Kingdom  383.40  2019     12  \n",
       "2  11.53        12     13069.0  United Kingdom  138.36  2019     12  \n",
       "3  10.65        12     13069.0  United Kingdom  127.80  2019     12  \n",
       "4  11.94         6     13069.0  United Kingdom   71.64  2019     12  "
      ]
     },
     "execution_count": 80,
     "metadata": {},
     "output_type": "execute_result"
    }
   ],
   "source": [
    "# creating a data frame for the year 2019\n",
    "df19 = df[df.year == 2019]\n",
    "df19.head()"
   ]
  },
  {
   "cell_type": "code",
   "execution_count": 82,
   "id": "2d8de085-8865-4b65-a9cc-24ce1b5e6059",
   "metadata": {
    "tags": []
   },
   "outputs": [
    {
     "data": {
      "text/plain": [
       "55899561.4"
      ]
     },
     "execution_count": 82,
     "metadata": {},
     "output_type": "execute_result"
    }
   ],
   "source": [
    "# Checking total sells which might be not right as data is not clear yet.\n",
    "round(df19.total.sum(),2)"
   ]
  },
  {
   "cell_type": "code",
   "execution_count": 83,
   "id": "eb4a4a82-3e12-4456-a8f4-9d76e6256776",
   "metadata": {
    "tags": []
   },
   "outputs": [],
   "source": [
    "# grouping year and months from date column\n",
    "years = df.groupby(by=[pd.to_datetime(df.Date).dt.year,pd.to_datetime(df.Date).dt.month])"
   ]
  },
  {
   "cell_type": "code",
   "execution_count": 84,
   "id": "4eda2573-88c9-49f6-a50c-0b4467fdc889",
   "metadata": {
    "tags": []
   },
   "outputs": [
    {
     "data": {
      "text/html": [
       "<div>\n",
       "<style scoped>\n",
       "    .dataframe tbody tr th:only-of-type {\n",
       "        vertical-align: middle;\n",
       "    }\n",
       "\n",
       "    .dataframe tbody tr th {\n",
       "        vertical-align: top;\n",
       "    }\n",
       "\n",
       "    .dataframe thead th {\n",
       "        text-align: right;\n",
       "    }\n",
       "</style>\n",
       "<table border=\"1\" class=\"dataframe\">\n",
       "  <thead>\n",
       "    <tr style=\"text-align: right;\">\n",
       "      <th></th>\n",
       "      <th></th>\n",
       "      <th>TransactionNo</th>\n",
       "      <th>Date</th>\n",
       "      <th>ProductNo</th>\n",
       "      <th>ProductName</th>\n",
       "      <th>Price</th>\n",
       "      <th>Quantity</th>\n",
       "      <th>CustomerNo</th>\n",
       "      <th>Country</th>\n",
       "      <th>total</th>\n",
       "      <th>year</th>\n",
       "      <th>month</th>\n",
       "    </tr>\n",
       "    <tr>\n",
       "      <th>Date</th>\n",
       "      <th>Date</th>\n",
       "      <th></th>\n",
       "      <th></th>\n",
       "      <th></th>\n",
       "      <th></th>\n",
       "      <th></th>\n",
       "      <th></th>\n",
       "      <th></th>\n",
       "      <th></th>\n",
       "      <th></th>\n",
       "      <th></th>\n",
       "      <th></th>\n",
       "    </tr>\n",
       "  </thead>\n",
       "  <tbody>\n",
       "    <tr>\n",
       "      <th>2018</th>\n",
       "      <th>12</th>\n",
       "      <td>41565</td>\n",
       "      <td>41565</td>\n",
       "      <td>41565</td>\n",
       "      <td>41565</td>\n",
       "      <td>41565</td>\n",
       "      <td>41565</td>\n",
       "      <td>41562</td>\n",
       "      <td>41565</td>\n",
       "      <td>41565</td>\n",
       "      <td>41565</td>\n",
       "      <td>41565</td>\n",
       "    </tr>\n",
       "    <tr>\n",
       "      <th rowspan=\"12\" valign=\"top\">2019</th>\n",
       "      <th>1</th>\n",
       "      <td>34530</td>\n",
       "      <td>34530</td>\n",
       "      <td>34530</td>\n",
       "      <td>34530</td>\n",
       "      <td>34530</td>\n",
       "      <td>34530</td>\n",
       "      <td>34526</td>\n",
       "      <td>34530</td>\n",
       "      <td>34530</td>\n",
       "      <td>34530</td>\n",
       "      <td>34530</td>\n",
       "    </tr>\n",
       "    <tr>\n",
       "      <th>2</th>\n",
       "      <td>27173</td>\n",
       "      <td>27173</td>\n",
       "      <td>27173</td>\n",
       "      <td>27173</td>\n",
       "      <td>27173</td>\n",
       "      <td>27173</td>\n",
       "      <td>27169</td>\n",
       "      <td>27173</td>\n",
       "      <td>27173</td>\n",
       "      <td>27173</td>\n",
       "      <td>27173</td>\n",
       "    </tr>\n",
       "    <tr>\n",
       "      <th>3</th>\n",
       "      <td>35932</td>\n",
       "      <td>35932</td>\n",
       "      <td>35932</td>\n",
       "      <td>35932</td>\n",
       "      <td>35932</td>\n",
       "      <td>35932</td>\n",
       "      <td>35926</td>\n",
       "      <td>35932</td>\n",
       "      <td>35932</td>\n",
       "      <td>35932</td>\n",
       "      <td>35932</td>\n",
       "    </tr>\n",
       "    <tr>\n",
       "      <th>4</th>\n",
       "      <td>29235</td>\n",
       "      <td>29235</td>\n",
       "      <td>29235</td>\n",
       "      <td>29235</td>\n",
       "      <td>29235</td>\n",
       "      <td>29235</td>\n",
       "      <td>29234</td>\n",
       "      <td>29235</td>\n",
       "      <td>29235</td>\n",
       "      <td>29235</td>\n",
       "      <td>29235</td>\n",
       "    </tr>\n",
       "    <tr>\n",
       "      <th>5</th>\n",
       "      <td>36318</td>\n",
       "      <td>36318</td>\n",
       "      <td>36318</td>\n",
       "      <td>36318</td>\n",
       "      <td>36318</td>\n",
       "      <td>36318</td>\n",
       "      <td>36307</td>\n",
       "      <td>36318</td>\n",
       "      <td>36318</td>\n",
       "      <td>36318</td>\n",
       "      <td>36318</td>\n",
       "    </tr>\n",
       "    <tr>\n",
       "      <th>6</th>\n",
       "      <td>36166</td>\n",
       "      <td>36166</td>\n",
       "      <td>36166</td>\n",
       "      <td>36166</td>\n",
       "      <td>36166</td>\n",
       "      <td>36166</td>\n",
       "      <td>36160</td>\n",
       "      <td>36166</td>\n",
       "      <td>36166</td>\n",
       "      <td>36166</td>\n",
       "      <td>36166</td>\n",
       "    </tr>\n",
       "    <tr>\n",
       "      <th>7</th>\n",
       "      <td>38780</td>\n",
       "      <td>38780</td>\n",
       "      <td>38780</td>\n",
       "      <td>38780</td>\n",
       "      <td>38780</td>\n",
       "      <td>38780</td>\n",
       "      <td>38773</td>\n",
       "      <td>38780</td>\n",
       "      <td>38780</td>\n",
       "      <td>38780</td>\n",
       "      <td>38780</td>\n",
       "    </tr>\n",
       "    <tr>\n",
       "      <th>8</th>\n",
       "      <td>34708</td>\n",
       "      <td>34708</td>\n",
       "      <td>34708</td>\n",
       "      <td>34708</td>\n",
       "      <td>34708</td>\n",
       "      <td>34708</td>\n",
       "      <td>34703</td>\n",
       "      <td>34708</td>\n",
       "      <td>34708</td>\n",
       "      <td>34708</td>\n",
       "      <td>34708</td>\n",
       "    </tr>\n",
       "    <tr>\n",
       "      <th>9</th>\n",
       "      <td>49391</td>\n",
       "      <td>49391</td>\n",
       "      <td>49391</td>\n",
       "      <td>49391</td>\n",
       "      <td>49391</td>\n",
       "      <td>49391</td>\n",
       "      <td>49389</td>\n",
       "      <td>49391</td>\n",
       "      <td>49391</td>\n",
       "      <td>49391</td>\n",
       "      <td>49391</td>\n",
       "    </tr>\n",
       "    <tr>\n",
       "      <th>10</th>\n",
       "      <td>59367</td>\n",
       "      <td>59367</td>\n",
       "      <td>59367</td>\n",
       "      <td>59367</td>\n",
       "      <td>59367</td>\n",
       "      <td>59367</td>\n",
       "      <td>59365</td>\n",
       "      <td>59367</td>\n",
       "      <td>59367</td>\n",
       "      <td>59367</td>\n",
       "      <td>59367</td>\n",
       "    </tr>\n",
       "    <tr>\n",
       "      <th>11</th>\n",
       "      <td>82821</td>\n",
       "      <td>82821</td>\n",
       "      <td>82821</td>\n",
       "      <td>82821</td>\n",
       "      <td>82821</td>\n",
       "      <td>82821</td>\n",
       "      <td>82819</td>\n",
       "      <td>82821</td>\n",
       "      <td>82821</td>\n",
       "      <td>82821</td>\n",
       "      <td>82821</td>\n",
       "    </tr>\n",
       "    <tr>\n",
       "      <th>12</th>\n",
       "      <td>25164</td>\n",
       "      <td>25164</td>\n",
       "      <td>25164</td>\n",
       "      <td>25164</td>\n",
       "      <td>25164</td>\n",
       "      <td>25164</td>\n",
       "      <td>25162</td>\n",
       "      <td>25164</td>\n",
       "      <td>25164</td>\n",
       "      <td>25164</td>\n",
       "      <td>25164</td>\n",
       "    </tr>\n",
       "  </tbody>\n",
       "</table>\n",
       "</div>"
      ],
      "text/plain": [
       "           TransactionNo   Date  ProductNo  ProductName  Price  Quantity  \\\n",
       "Date Date                                                                  \n",
       "2018 12            41565  41565      41565        41565  41565     41565   \n",
       "2019 1             34530  34530      34530        34530  34530     34530   \n",
       "     2             27173  27173      27173        27173  27173     27173   \n",
       "     3             35932  35932      35932        35932  35932     35932   \n",
       "     4             29235  29235      29235        29235  29235     29235   \n",
       "     5             36318  36318      36318        36318  36318     36318   \n",
       "     6             36166  36166      36166        36166  36166     36166   \n",
       "     7             38780  38780      38780        38780  38780     38780   \n",
       "     8             34708  34708      34708        34708  34708     34708   \n",
       "     9             49391  49391      49391        49391  49391     49391   \n",
       "     10            59367  59367      59367        59367  59367     59367   \n",
       "     11            82821  82821      82821        82821  82821     82821   \n",
       "     12            25164  25164      25164        25164  25164     25164   \n",
       "\n",
       "           CustomerNo  Country  total   year  month  \n",
       "Date Date                                            \n",
       "2018 12         41562    41565  41565  41565  41565  \n",
       "2019 1          34526    34530  34530  34530  34530  \n",
       "     2          27169    27173  27173  27173  27173  \n",
       "     3          35926    35932  35932  35932  35932  \n",
       "     4          29234    29235  29235  29235  29235  \n",
       "     5          36307    36318  36318  36318  36318  \n",
       "     6          36160    36166  36166  36166  36166  \n",
       "     7          38773    38780  38780  38780  38780  \n",
       "     8          34703    34708  34708  34708  34708  \n",
       "     9          49389    49391  49391  49391  49391  \n",
       "     10         59365    59367  59367  59367  59367  \n",
       "     11         82819    82821  82821  82821  82821  \n",
       "     12         25162    25164  25164  25164  25164  "
      ]
     },
     "execution_count": 84,
     "metadata": {},
     "output_type": "execute_result"
    }
   ],
   "source": [
    "years.count()"
   ]
  },
  {
   "cell_type": "markdown",
   "id": "0bb56379-c831-4fc6-b91f-f8834c258f07",
   "metadata": {},
   "source": [
    "## How was the sales trend over the months?"
   ]
  },
  {
   "cell_type": "code",
   "execution_count": 85,
   "id": "9df2bf8c-400a-4ad3-9f52-754ea01fdc4c",
   "metadata": {},
   "outputs": [
    {
     "name": "stderr",
     "output_type": "stream",
     "text": [
      "/usr/lib/python3/dist-packages/pandas/util/_decorators.py:311: SettingWithCopyWarning: \n",
      "A value is trying to be set on a copy of a slice from a DataFrame\n",
      "\n",
      "See the caveats in the documentation: https://pandas.pydata.org/pandas-docs/stable/user_guide/indexing.html#returning-a-view-versus-a-copy\n",
      "  return func(*args, **kwargs)\n"
     ]
    }
   ],
   "source": [
    "# sorting Data Frame with Date column\n",
    "df19.sort_values('Date',inplace=True)"
   ]
  },
  {
   "cell_type": "code",
   "execution_count": 86,
   "id": "752a8276-31ec-4c31-8e33-34b47a4d648f",
   "metadata": {
    "tags": []
   },
   "outputs": [
    {
     "data": {
      "text/html": [
       "<div>\n",
       "<style scoped>\n",
       "    .dataframe tbody tr th:only-of-type {\n",
       "        vertical-align: middle;\n",
       "    }\n",
       "\n",
       "    .dataframe tbody tr th {\n",
       "        vertical-align: top;\n",
       "    }\n",
       "\n",
       "    .dataframe thead th {\n",
       "        text-align: right;\n",
       "    }\n",
       "</style>\n",
       "<table border=\"1\" class=\"dataframe\">\n",
       "  <thead>\n",
       "    <tr style=\"text-align: right;\">\n",
       "      <th></th>\n",
       "      <th>TransactionNo</th>\n",
       "      <th>Date</th>\n",
       "      <th>ProductNo</th>\n",
       "      <th>ProductName</th>\n",
       "      <th>Price</th>\n",
       "      <th>Quantity</th>\n",
       "      <th>CustomerNo</th>\n",
       "      <th>Country</th>\n",
       "      <th>total</th>\n",
       "      <th>year</th>\n",
       "      <th>month</th>\n",
       "    </tr>\n",
       "  </thead>\n",
       "  <tbody>\n",
       "    <tr>\n",
       "      <th>485157</th>\n",
       "      <td>540551</td>\n",
       "      <td>1/10/2019</td>\n",
       "      <td>84596J</td>\n",
       "      <td>Mixed Nuts Light Green Bowl</td>\n",
       "      <td>11.12</td>\n",
       "      <td>7</td>\n",
       "      <td>14551.0</td>\n",
       "      <td>United Kingdom</td>\n",
       "      <td>77.84</td>\n",
       "      <td>2019</td>\n",
       "      <td>1</td>\n",
       "    </tr>\n",
       "    <tr>\n",
       "      <th>485343</th>\n",
       "      <td>540561</td>\n",
       "      <td>1/10/2019</td>\n",
       "      <td>21232</td>\n",
       "      <td>Strawberry Ceramic Trinket Pot</td>\n",
       "      <td>11.53</td>\n",
       "      <td>12</td>\n",
       "      <td>13004.0</td>\n",
       "      <td>United Kingdom</td>\n",
       "      <td>138.36</td>\n",
       "      <td>2019</td>\n",
       "      <td>1</td>\n",
       "    </tr>\n",
       "    <tr>\n",
       "      <th>485344</th>\n",
       "      <td>540561</td>\n",
       "      <td>1/10/2019</td>\n",
       "      <td>84580</td>\n",
       "      <td>Mouse Toy With Pink T-Shirt</td>\n",
       "      <td>14.09</td>\n",
       "      <td>4</td>\n",
       "      <td>13004.0</td>\n",
       "      <td>United Kingdom</td>\n",
       "      <td>56.36</td>\n",
       "      <td>2019</td>\n",
       "      <td>1</td>\n",
       "    </tr>\n",
       "    <tr>\n",
       "      <th>485345</th>\n",
       "      <td>540561</td>\n",
       "      <td>1/10/2019</td>\n",
       "      <td>22355</td>\n",
       "      <td>Charlotte Bag Suki Design</td>\n",
       "      <td>11.12</td>\n",
       "      <td>10</td>\n",
       "      <td>13004.0</td>\n",
       "      <td>United Kingdom</td>\n",
       "      <td>111.20</td>\n",
       "      <td>2019</td>\n",
       "      <td>1</td>\n",
       "    </tr>\n",
       "    <tr>\n",
       "      <th>485346</th>\n",
       "      <td>540561</td>\n",
       "      <td>1/10/2019</td>\n",
       "      <td>22356</td>\n",
       "      <td>Charlotte Bag Pink Polkadot</td>\n",
       "      <td>11.12</td>\n",
       "      <td>10</td>\n",
       "      <td>13004.0</td>\n",
       "      <td>United Kingdom</td>\n",
       "      <td>111.20</td>\n",
       "      <td>2019</td>\n",
       "      <td>1</td>\n",
       "    </tr>\n",
       "  </tbody>\n",
       "</table>\n",
       "</div>"
      ],
      "text/plain": [
       "       TransactionNo       Date ProductNo                     ProductName  \\\n",
       "485157        540551  1/10/2019    84596J     Mixed Nuts Light Green Bowl   \n",
       "485343        540561  1/10/2019     21232  Strawberry Ceramic Trinket Pot   \n",
       "485344        540561  1/10/2019     84580     Mouse Toy With Pink T-Shirt   \n",
       "485345        540561  1/10/2019     22355       Charlotte Bag Suki Design   \n",
       "485346        540561  1/10/2019     22356     Charlotte Bag Pink Polkadot   \n",
       "\n",
       "        Price  Quantity  CustomerNo         Country   total  year  month  \n",
       "485157  11.12         7     14551.0  United Kingdom   77.84  2019      1  \n",
       "485343  11.53        12     13004.0  United Kingdom  138.36  2019      1  \n",
       "485344  14.09         4     13004.0  United Kingdom   56.36  2019      1  \n",
       "485345  11.12        10     13004.0  United Kingdom  111.20  2019      1  \n",
       "485346  11.12        10     13004.0  United Kingdom  111.20  2019      1  "
      ]
     },
     "execution_count": 86,
     "metadata": {},
     "output_type": "execute_result"
    }
   ],
   "source": [
    "# clean the 2019 out of canceled Transactions\n",
    "# negative values is Quantity column is the canceled transactions\n",
    "# canceled values\n",
    "df19canceled = df19[df19.Quantity < 0]\n",
    "# clean values out of canceled\n",
    "df19outofcan = df19[df19.Quantity > 0]\n",
    "df19outofcan.head()"
   ]
  },
  {
   "cell_type": "code",
   "execution_count": 87,
   "id": "8edb9ae1-25e4-4726-adc3-12570cfc9902",
   "metadata": {
    "tags": []
   },
   "outputs": [],
   "source": [
    "# putting Date as index\n",
    "df19.index = df19.Date"
   ]
  },
  {
   "cell_type": "code",
   "execution_count": 88,
   "id": "64ff415c-d504-456d-b9ae-0b0025a8558f",
   "metadata": {
    "tags": []
   },
   "outputs": [
    {
     "data": {
      "text/html": [
       "<div>\n",
       "<style scoped>\n",
       "    .dataframe tbody tr th:only-of-type {\n",
       "        vertical-align: middle;\n",
       "    }\n",
       "\n",
       "    .dataframe tbody tr th {\n",
       "        vertical-align: top;\n",
       "    }\n",
       "\n",
       "    .dataframe thead th {\n",
       "        text-align: right;\n",
       "    }\n",
       "</style>\n",
       "<table border=\"1\" class=\"dataframe\">\n",
       "  <thead>\n",
       "    <tr style=\"text-align: right;\">\n",
       "      <th></th>\n",
       "      <th>TransactionNo</th>\n",
       "      <th>Date</th>\n",
       "      <th>ProductNo</th>\n",
       "      <th>ProductName</th>\n",
       "      <th>Price</th>\n",
       "      <th>Quantity</th>\n",
       "      <th>CustomerNo</th>\n",
       "      <th>Country</th>\n",
       "      <th>total</th>\n",
       "      <th>year</th>\n",
       "      <th>month</th>\n",
       "    </tr>\n",
       "    <tr>\n",
       "      <th>Date</th>\n",
       "      <th></th>\n",
       "      <th></th>\n",
       "      <th></th>\n",
       "      <th></th>\n",
       "      <th></th>\n",
       "      <th></th>\n",
       "      <th></th>\n",
       "      <th></th>\n",
       "      <th></th>\n",
       "      <th></th>\n",
       "      <th></th>\n",
       "    </tr>\n",
       "  </thead>\n",
       "  <tbody>\n",
       "    <tr>\n",
       "      <th>1/10/2019</th>\n",
       "      <td>540551</td>\n",
       "      <td>1/10/2019</td>\n",
       "      <td>84596J</td>\n",
       "      <td>Mixed Nuts Light Green Bowl</td>\n",
       "      <td>11.12</td>\n",
       "      <td>7</td>\n",
       "      <td>14551.0</td>\n",
       "      <td>United Kingdom</td>\n",
       "      <td>77.84</td>\n",
       "      <td>2019</td>\n",
       "      <td>1</td>\n",
       "    </tr>\n",
       "    <tr>\n",
       "      <th>1/10/2019</th>\n",
       "      <td>540561</td>\n",
       "      <td>1/10/2019</td>\n",
       "      <td>21232</td>\n",
       "      <td>Strawberry Ceramic Trinket Pot</td>\n",
       "      <td>11.53</td>\n",
       "      <td>12</td>\n",
       "      <td>13004.0</td>\n",
       "      <td>United Kingdom</td>\n",
       "      <td>138.36</td>\n",
       "      <td>2019</td>\n",
       "      <td>1</td>\n",
       "    </tr>\n",
       "    <tr>\n",
       "      <th>1/10/2019</th>\n",
       "      <td>540561</td>\n",
       "      <td>1/10/2019</td>\n",
       "      <td>84580</td>\n",
       "      <td>Mouse Toy With Pink T-Shirt</td>\n",
       "      <td>14.09</td>\n",
       "      <td>4</td>\n",
       "      <td>13004.0</td>\n",
       "      <td>United Kingdom</td>\n",
       "      <td>56.36</td>\n",
       "      <td>2019</td>\n",
       "      <td>1</td>\n",
       "    </tr>\n",
       "    <tr>\n",
       "      <th>1/10/2019</th>\n",
       "      <td>540561</td>\n",
       "      <td>1/10/2019</td>\n",
       "      <td>22355</td>\n",
       "      <td>Charlotte Bag Suki Design</td>\n",
       "      <td>11.12</td>\n",
       "      <td>10</td>\n",
       "      <td>13004.0</td>\n",
       "      <td>United Kingdom</td>\n",
       "      <td>111.20</td>\n",
       "      <td>2019</td>\n",
       "      <td>1</td>\n",
       "    </tr>\n",
       "    <tr>\n",
       "      <th>1/10/2019</th>\n",
       "      <td>540561</td>\n",
       "      <td>1/10/2019</td>\n",
       "      <td>22356</td>\n",
       "      <td>Charlotte Bag Pink Polkadot</td>\n",
       "      <td>11.12</td>\n",
       "      <td>10</td>\n",
       "      <td>13004.0</td>\n",
       "      <td>United Kingdom</td>\n",
       "      <td>111.20</td>\n",
       "      <td>2019</td>\n",
       "      <td>1</td>\n",
       "    </tr>\n",
       "  </tbody>\n",
       "</table>\n",
       "</div>"
      ],
      "text/plain": [
       "          TransactionNo       Date ProductNo                     ProductName  \\\n",
       "Date                                                                           \n",
       "1/10/2019        540551  1/10/2019    84596J     Mixed Nuts Light Green Bowl   \n",
       "1/10/2019        540561  1/10/2019     21232  Strawberry Ceramic Trinket Pot   \n",
       "1/10/2019        540561  1/10/2019     84580     Mouse Toy With Pink T-Shirt   \n",
       "1/10/2019        540561  1/10/2019     22355       Charlotte Bag Suki Design   \n",
       "1/10/2019        540561  1/10/2019     22356     Charlotte Bag Pink Polkadot   \n",
       "\n",
       "           Price  Quantity  CustomerNo         Country   total  year  month  \n",
       "Date                                                                         \n",
       "1/10/2019  11.12         7     14551.0  United Kingdom   77.84  2019      1  \n",
       "1/10/2019  11.53        12     13004.0  United Kingdom  138.36  2019      1  \n",
       "1/10/2019  14.09         4     13004.0  United Kingdom   56.36  2019      1  \n",
       "1/10/2019  11.12        10     13004.0  United Kingdom  111.20  2019      1  \n",
       "1/10/2019  11.12        10     13004.0  United Kingdom  111.20  2019      1  "
      ]
     },
     "execution_count": 88,
     "metadata": {},
     "output_type": "execute_result"
    }
   ],
   "source": [
    "df19.head()"
   ]
  },
  {
   "cell_type": "code",
   "execution_count": 89,
   "id": "f7a7193f-5304-45d2-828d-94047ed8f768",
   "metadata": {
    "tags": []
   },
   "outputs": [
    {
     "data": {
      "text/plain": [
       "month\n",
       "1     4548423.47\n",
       "2     3327342.64\n",
       "3     4384669.82\n",
       "4     3579310.06\n",
       "5     4569952.21\n",
       "6     4486132.15\n",
       "7     4571494.88\n",
       "8     4749801.23\n",
       "9     6613772.79\n",
       "10    7212279.85\n",
       "11    7828489.53\n",
       "12    2512069.52\n",
       "Name: total, dtype: float64"
      ]
     },
     "execution_count": 89,
     "metadata": {},
     "output_type": "execute_result"
    }
   ],
   "source": [
    "# finding total of sales over months with groupby\n",
    "months = df19outofcan.groupby(\"month\")\n",
    "total = months.sum()[\"total\"]\n",
    "total"
   ]
  },
  {
   "cell_type": "code",
   "execution_count": 90,
   "id": "85c8b644-46e3-487f-b18c-0d19b5a282ba",
   "metadata": {
    "tags": []
   },
   "outputs": [
    {
     "data": {
      "image/png": "[encoded data removed]",
      "text/plain": [
       "<Figure size 640x480 with 1 Axes>"
      ]
     },
     "metadata": {},
     "output_type": "display_data"
    }
   ],
   "source": [
    "plt.bar(total.index,total)\n",
    "plt.xlabel(\"Months\")\n",
    "plt.ylabel(\"sells in Millions\")\n",
    "plt.title(\"Sell trend over months (2019)\")\n",
    "\n",
    "\n",
    "\n",
    "plt.tight_layout()\n",
    "plt.show()"
   ]
  },
  {
   "cell_type": "markdown",
   "id": "6e6ee487-a81c-453c-8b47-cc449cc51b5b",
   "metadata": {},
   "source": [
    "## What are the most frequently purchased products?"
   ]
  },
  {
   "cell_type": "code",
   "execution_count": 91,
   "id": "e674eba6-57c1-42bf-8903-6e8367404c78",
   "metadata": {
    "tags": []
   },
   "outputs": [
    {
     "data": {
      "text/plain": [
       "1       128529\n",
       "2        74187\n",
       "12       57294\n",
       "6        37670\n",
       "4        35588\n",
       "         ...  \n",
       "1120         1\n",
       "77           1\n",
       "648          1\n",
       "193          1\n",
       "1404         1\n",
       "Name: Quantity, Length: 363, dtype: int64"
      ]
     },
     "execution_count": 91,
     "metadata": {},
     "output_type": "execute_result"
    }
   ],
   "source": [
    "# Checking Quantities \n",
    "\n",
    "df19outofcan.Quantity.value_counts()"
   ]
  },
  {
   "cell_type": "code",
   "execution_count": 92,
   "id": "fc758ed9-2ca5-4cbd-9751-d00407018541",
   "metadata": {
    "tags": []
   },
   "outputs": [
    {
     "data": {
      "text/plain": [
       "Cream Hanging Heart T-Light Holder    2089\n",
       "Jumbo Bag Red Retrospot               1991\n",
       "Regency Cakestand 3 Tier              1833\n",
       "Party Bunting                         1653\n",
       "Lunch Bag Red Retrospot               1497\n",
       "                                      ... \n",
       "Silver Looking Mirror                    1\n",
       "Ocean Stripe Hammock                     1\n",
       "Hen House W Chick In Nest                1\n",
       "Old Doc Russel Metal Sign                1\n",
       "Black Diamond Cluster Earrings           1\n",
       "Name: ProductName, Length: 3676, dtype: int64"
      ]
     },
     "execution_count": 92,
     "metadata": {},
     "output_type": "execute_result"
    }
   ],
   "source": [
    "# exploring about products\n",
    "\n",
    "df19outofcan.ProductName.value_counts()"
   ]
  },
  {
   "cell_type": "code",
   "execution_count": 93,
   "id": "f66d43d7-8fb0-438b-a076-beedaf66ae88",
   "metadata": {
    "tags": []
   },
   "outputs": [],
   "source": [
    "# making a group of all products and getting top 5 sum of quantities\n",
    "# and getting top ten most frequently sold products\n",
    "products = df19outofcan.groupby(\"ProductName\")\n",
    "top_5_products = products.sum()[\"Quantity\"].sort_values(ascending=False)[:5]\n",
    "top_5_products.sort_values(inplace=True)"
   ]
  },
  {
   "cell_type": "code",
   "execution_count": 94,
   "id": "d9b11557-bfee-4ad6-b71d-30e251520583",
   "metadata": {
    "tags": []
   },
   "outputs": [
    {
     "data": {
      "image/png": "[encoded data removed]",
      "text/plain": [
       "<Figure size 640x480 with 1 Axes>"
      ]
     },
     "metadata": {},
     "output_type": "display_data"
    }
   ],
   "source": [
    "plt.barh(top_5_products.index,top_5_products)\n",
    "\n",
    "plt.xlabel(\"Product Sold Count\")\n",
    "plt.ylabel(\"Products Name\")\n",
    "plt.title(\"Top 5 Frequently sold Products (2019)\")\n",
    "\n",
    "\n",
    "plt.show()"
   ]
  },
  {
   "cell_type": "markdown",
   "id": "981587c2-1759-4702-9704-8aaf1b67582f",
   "metadata": {},
   "source": [
    "## How many products does the customer purchase in each transaction?"
   ]
  },
  {
   "cell_type": "code",
   "execution_count": 95,
   "id": "d5b866f9-4eba-47f5-b0cf-33765a20472b",
   "metadata": {
    "tags": []
   },
   "outputs": [
    {
     "data": {
      "text/html": [
       "<div>\n",
       "<style scoped>\n",
       "    .dataframe tbody tr th:only-of-type {\n",
       "        vertical-align: middle;\n",
       "    }\n",
       "\n",
       "    .dataframe tbody tr th {\n",
       "        vertical-align: top;\n",
       "    }\n",
       "\n",
       "    .dataframe thead th {\n",
       "        text-align: right;\n",
       "    }\n",
       "</style>\n",
       "<table border=\"1\" class=\"dataframe\">\n",
       "  <thead>\n",
       "    <tr style=\"text-align: right;\">\n",
       "      <th></th>\n",
       "      <th>TransactionNo</th>\n",
       "      <th>Date</th>\n",
       "      <th>ProductNo</th>\n",
       "      <th>ProductName</th>\n",
       "      <th>Price</th>\n",
       "      <th>Quantity</th>\n",
       "      <th>CustomerNo</th>\n",
       "      <th>Country</th>\n",
       "      <th>total</th>\n",
       "      <th>year</th>\n",
       "      <th>month</th>\n",
       "    </tr>\n",
       "  </thead>\n",
       "  <tbody>\n",
       "    <tr>\n",
       "      <th>485157</th>\n",
       "      <td>540551</td>\n",
       "      <td>1/10/2019</td>\n",
       "      <td>84596J</td>\n",
       "      <td>Mixed Nuts Light Green Bowl</td>\n",
       "      <td>11.12</td>\n",
       "      <td>7</td>\n",
       "      <td>14551.0</td>\n",
       "      <td>United Kingdom</td>\n",
       "      <td>77.84</td>\n",
       "      <td>2019</td>\n",
       "      <td>1</td>\n",
       "    </tr>\n",
       "    <tr>\n",
       "      <th>485343</th>\n",
       "      <td>540561</td>\n",
       "      <td>1/10/2019</td>\n",
       "      <td>21232</td>\n",
       "      <td>Strawberry Ceramic Trinket Pot</td>\n",
       "      <td>11.53</td>\n",
       "      <td>12</td>\n",
       "      <td>13004.0</td>\n",
       "      <td>United Kingdom</td>\n",
       "      <td>138.36</td>\n",
       "      <td>2019</td>\n",
       "      <td>1</td>\n",
       "    </tr>\n",
       "    <tr>\n",
       "      <th>485344</th>\n",
       "      <td>540561</td>\n",
       "      <td>1/10/2019</td>\n",
       "      <td>84580</td>\n",
       "      <td>Mouse Toy With Pink T-Shirt</td>\n",
       "      <td>14.09</td>\n",
       "      <td>4</td>\n",
       "      <td>13004.0</td>\n",
       "      <td>United Kingdom</td>\n",
       "      <td>56.36</td>\n",
       "      <td>2019</td>\n",
       "      <td>1</td>\n",
       "    </tr>\n",
       "    <tr>\n",
       "      <th>485345</th>\n",
       "      <td>540561</td>\n",
       "      <td>1/10/2019</td>\n",
       "      <td>22355</td>\n",
       "      <td>Charlotte Bag Suki Design</td>\n",
       "      <td>11.12</td>\n",
       "      <td>10</td>\n",
       "      <td>13004.0</td>\n",
       "      <td>United Kingdom</td>\n",
       "      <td>111.20</td>\n",
       "      <td>2019</td>\n",
       "      <td>1</td>\n",
       "    </tr>\n",
       "    <tr>\n",
       "      <th>485346</th>\n",
       "      <td>540561</td>\n",
       "      <td>1/10/2019</td>\n",
       "      <td>22356</td>\n",
       "      <td>Charlotte Bag Pink Polkadot</td>\n",
       "      <td>11.12</td>\n",
       "      <td>10</td>\n",
       "      <td>13004.0</td>\n",
       "      <td>United Kingdom</td>\n",
       "      <td>111.20</td>\n",
       "      <td>2019</td>\n",
       "      <td>1</td>\n",
       "    </tr>\n",
       "  </tbody>\n",
       "</table>\n",
       "</div>"
      ],
      "text/plain": [
       "       TransactionNo       Date ProductNo                     ProductName  \\\n",
       "485157        540551  1/10/2019    84596J     Mixed Nuts Light Green Bowl   \n",
       "485343        540561  1/10/2019     21232  Strawberry Ceramic Trinket Pot   \n",
       "485344        540561  1/10/2019     84580     Mouse Toy With Pink T-Shirt   \n",
       "485345        540561  1/10/2019     22355       Charlotte Bag Suki Design   \n",
       "485346        540561  1/10/2019     22356     Charlotte Bag Pink Polkadot   \n",
       "\n",
       "        Price  Quantity  CustomerNo         Country   total  year  month  \n",
       "485157  11.12         7     14551.0  United Kingdom   77.84  2019      1  \n",
       "485343  11.53        12     13004.0  United Kingdom  138.36  2019      1  \n",
       "485344  14.09         4     13004.0  United Kingdom   56.36  2019      1  \n",
       "485345  11.12        10     13004.0  United Kingdom  111.20  2019      1  \n",
       "485346  11.12        10     13004.0  United Kingdom  111.20  2019      1  "
      ]
     },
     "execution_count": 95,
     "metadata": {},
     "output_type": "execute_result"
    }
   ],
   "source": [
    "df19outofcan.head()"
   ]
  },
  {
   "cell_type": "code",
   "execution_count": 96,
   "id": "9fa9494c-9018-4939-a58c-d70871b2f595",
   "metadata": {
    "tags": []
   },
   "outputs": [
    {
     "data": {
      "text/plain": [
       "count    18238.000000\n",
       "mean        26.412052\n",
       "std         45.564832\n",
       "min          1.000000\n",
       "25%          7.000000\n",
       "50%         16.000000\n",
       "75%         29.000000\n",
       "max       1110.000000\n",
       "Name: ProductNo, dtype: float64"
      ]
     },
     "execution_count": 96,
     "metadata": {},
     "output_type": "execute_result"
    }
   ],
   "source": [
    "# Creating a transaction group and counting product numbers\n",
    "# describing it for better exploration of data\n",
    "\n",
    "trans = df19outofcan.groupby(\"TransactionNo\").count()[\"ProductNo\"].sort_values(ascending=False)\n",
    "trans.describe()"
   ]
  },
  {
   "cell_type": "code",
   "execution_count": 97,
   "id": "1c197f14-38ec-47ac-8a20-990ee08f587e",
   "metadata": {
    "tags": []
   },
   "outputs": [
    {
     "data": {
      "text/plain": [
       "TransactionNo\n",
       "573585    1110\n",
       "581219     747\n",
       "581492     730\n",
       "580729     719\n",
       "558475     704\n",
       "          ... \n",
       "565387       1\n",
       "550308       1\n",
       "557940       1\n",
       "556454       1\n",
       "559524       1\n",
       "Name: ProductNo, Length: 18238, dtype: int64"
      ]
     },
     "execution_count": 97,
     "metadata": {},
     "output_type": "execute_result"
    }
   ],
   "source": [
    "trans"
   ]
  },
  {
   "cell_type": "code",
   "execution_count": 98,
   "id": "7d9d6fa7-0eaa-4df7-b3d0-a7b191c81144",
   "metadata": {
    "tags": []
   },
   "outputs": [
    {
     "data": {
      "text/plain": [
       "<AxesSubplot:xlabel='ProductNo', ylabel='Count'>"
      ]
     },
     "execution_count": 98,
     "metadata": {},
     "output_type": "execute_result"
    },
    {
     "data": {
      "image/png": "[encoded data removed]",
      "text/plain": [
       "<Figure size 640x480 with 1 Axes>"
      ]
     },
     "metadata": {},
     "output_type": "display_data"
    }
   ],
   "source": [
    "# creating a line plot using seaborn for better understaning of Data\n",
    "\n",
    "sns.histplot(trans,kde=True)"
   ]
  },
  {
   "cell_type": "code",
   "execution_count": 99,
   "id": "85be88e7-e360-41c1-9763-062ff473c061",
   "metadata": {
    "tags": []
   },
   "outputs": [
    {
     "data": {
      "text/plain": [
       "TransactionNo\n",
       "573585    1110\n",
       "581219     747\n",
       "581492     730\n",
       "580729     719\n",
       "558475     704\n",
       "          ... \n",
       "565387       1\n",
       "550308       1\n",
       "557940       1\n",
       "556454       1\n",
       "559524       1\n",
       "Name: ProductNo, Length: 18238, dtype: int64"
      ]
     },
     "execution_count": 99,
     "metadata": {},
     "output_type": "execute_result"
    }
   ],
   "source": [
    "# it looks very bad in disterbution now i will make a nurmal disterbution\n",
    "trans"
   ]
  },
  {
   "cell_type": "code",
   "execution_count": 100,
   "id": "ec80c062-015a-4597-9301-c5b4fbc4afe3",
   "metadata": {
    "tags": []
   },
   "outputs": [
    {
     "data": {
      "text/plain": [
       "count    18238.000000\n",
       "mean        26.412052\n",
       "std         45.564832\n",
       "min          1.000000\n",
       "25%          7.000000\n",
       "50%         16.000000\n",
       "75%         29.000000\n",
       "max       1110.000000\n",
       "Name: ProductNo, dtype: float64"
      ]
     },
     "execution_count": 100,
     "metadata": {},
     "output_type": "execute_result"
    }
   ],
   "source": [
    "# formula for mean - 2 * std and mean + 2 * std\n",
    "trans.describe()"
   ]
  },
  {
   "cell_type": "code",
   "execution_count": 101,
   "id": "715328ee-1267-43c1-8898-bc0f4552b04b",
   "metadata": {
    "tags": []
   },
   "outputs": [
    {
     "data": {
      "text/plain": [
       "-64.99171"
      ]
     },
     "execution_count": 101,
     "metadata": {},
     "output_type": "execute_result"
    }
   ],
   "source": [
    "26.666740 - (2 * 45.829225)"
   ]
  },
  {
   "cell_type": "code",
   "execution_count": 102,
   "id": "e560ffdf-45d5-4c8c-8c5b-f49f07c16e49",
   "metadata": {},
   "outputs": [
    {
     "data": {
      "text/plain": [
       "118.32519"
      ]
     },
     "execution_count": 102,
     "metadata": {},
     "output_type": "execute_result"
    }
   ],
   "source": [
    "26.666740 + (2 * 45.829225)"
   ]
  },
  {
   "cell_type": "code",
   "execution_count": 103,
   "id": "45c47202-a2a2-4ca6-a4d3-33fec97466e6",
   "metadata": {
    "tags": []
   },
   "outputs": [
    {
     "data": {
      "text/plain": [
       "TransactionNo\n",
       "564061    117\n",
       "580677    117\n",
       "544776    117\n",
       "560368    117\n",
       "562558    117\n",
       "         ... \n",
       "565387      1\n",
       "550308      1\n",
       "557940      1\n",
       "556454      1\n",
       "559524      1\n",
       "Name: ProductNo, Length: 17724, dtype: int64"
      ]
     },
     "execution_count": 103,
     "metadata": {},
     "output_type": "execute_result"
    }
   ],
   "source": [
    "## removing alil bit of the outlier to have better visualization\n",
    "\n",
    "trans_no_outlier = trans[(trans < 118) & (trans > -19)]\n",
    "trans_no_outlier"
   ]
  },
  {
   "cell_type": "code",
   "execution_count": 104,
   "id": "8fd75dfd-6738-46b5-89b7-757a0828381c",
   "metadata": {
    "tags": []
   },
   "outputs": [
    {
     "data": {
      "text/plain": [
       "Text(0.5, 1.0, 'How many products does the customer purchase in each transaction (2019)')"
      ]
     },
     "execution_count": 104,
     "metadata": {},
     "output_type": "execute_result"
    },
    {
     "data": {
      "image/png": "[encoded data removed]",
      "text/plain": [
       "<Figure size 640x480 with 1 Axes>"
      ]
     },
     "metadata": {},
     "output_type": "display_data"
    }
   ],
   "source": [
    "sns.histplot(trans_no_outlier,kde=True)\n",
    "plt.xlabel(\"Amount of transaction together\")\n",
    "plt.ylabel(\"Count\")\n",
    "plt.title(\"How many products does the customer purchase in each transaction (2019)\")"
   ]
  },
  {
   "cell_type": "markdown",
   "id": "e0ef034e-69ab-469a-b550-cbd03dffc659",
   "metadata": {
    "tags": []
   },
   "source": [
    "on avrage a customer buys around 25 to 50 \n",
    "\n",
    "as your can see most of the time they will buy 1 to 4 purchase per transactions\n",
    "\n",
    "and we have some third party business indiviuals"
   ]
  },
  {
   "cell_type": "markdown",
   "id": "64b7fc7b-f7ee-450f-bdb7-303663730b37",
   "metadata": {},
   "source": [
    "## What are the most profitable segment customers?"
   ]
  },
  {
   "cell_type": "code",
   "execution_count": 105,
   "id": "aac4e638-40b9-4a9a-9f13-9a83df9e7f6f",
   "metadata": {
    "tags": []
   },
   "outputs": [
    {
     "data": {
      "text/html": [
       "<div>\n",
       "<style scoped>\n",
       "    .dataframe tbody tr th:only-of-type {\n",
       "        vertical-align: middle;\n",
       "    }\n",
       "\n",
       "    .dataframe tbody tr th {\n",
       "        vertical-align: top;\n",
       "    }\n",
       "\n",
       "    .dataframe thead th {\n",
       "        text-align: right;\n",
       "    }\n",
       "</style>\n",
       "<table border=\"1\" class=\"dataframe\">\n",
       "  <thead>\n",
       "    <tr style=\"text-align: right;\">\n",
       "      <th></th>\n",
       "      <th>TransactionNo</th>\n",
       "      <th>Date</th>\n",
       "      <th>ProductNo</th>\n",
       "      <th>ProductName</th>\n",
       "      <th>Price</th>\n",
       "      <th>Quantity</th>\n",
       "      <th>CustomerNo</th>\n",
       "      <th>Country</th>\n",
       "      <th>total</th>\n",
       "      <th>year</th>\n",
       "      <th>month</th>\n",
       "    </tr>\n",
       "    <tr>\n",
       "      <th>Date</th>\n",
       "      <th></th>\n",
       "      <th></th>\n",
       "      <th></th>\n",
       "      <th></th>\n",
       "      <th></th>\n",
       "      <th></th>\n",
       "      <th></th>\n",
       "      <th></th>\n",
       "      <th></th>\n",
       "      <th></th>\n",
       "      <th></th>\n",
       "    </tr>\n",
       "  </thead>\n",
       "  <tbody>\n",
       "    <tr>\n",
       "      <th>1/10/2019</th>\n",
       "      <td>540551</td>\n",
       "      <td>1/10/2019</td>\n",
       "      <td>84596J</td>\n",
       "      <td>Mixed Nuts Light Green Bowl</td>\n",
       "      <td>11.12</td>\n",
       "      <td>7</td>\n",
       "      <td>14551.0</td>\n",
       "      <td>United Kingdom</td>\n",
       "      <td>77.84</td>\n",
       "      <td>2019</td>\n",
       "      <td>1</td>\n",
       "    </tr>\n",
       "    <tr>\n",
       "      <th>1/10/2019</th>\n",
       "      <td>540561</td>\n",
       "      <td>1/10/2019</td>\n",
       "      <td>21232</td>\n",
       "      <td>Strawberry Ceramic Trinket Pot</td>\n",
       "      <td>11.53</td>\n",
       "      <td>12</td>\n",
       "      <td>13004.0</td>\n",
       "      <td>United Kingdom</td>\n",
       "      <td>138.36</td>\n",
       "      <td>2019</td>\n",
       "      <td>1</td>\n",
       "    </tr>\n",
       "    <tr>\n",
       "      <th>1/10/2019</th>\n",
       "      <td>540561</td>\n",
       "      <td>1/10/2019</td>\n",
       "      <td>84580</td>\n",
       "      <td>Mouse Toy With Pink T-Shirt</td>\n",
       "      <td>14.09</td>\n",
       "      <td>4</td>\n",
       "      <td>13004.0</td>\n",
       "      <td>United Kingdom</td>\n",
       "      <td>56.36</td>\n",
       "      <td>2019</td>\n",
       "      <td>1</td>\n",
       "    </tr>\n",
       "    <tr>\n",
       "      <th>1/10/2019</th>\n",
       "      <td>540561</td>\n",
       "      <td>1/10/2019</td>\n",
       "      <td>22355</td>\n",
       "      <td>Charlotte Bag Suki Design</td>\n",
       "      <td>11.12</td>\n",
       "      <td>10</td>\n",
       "      <td>13004.0</td>\n",
       "      <td>United Kingdom</td>\n",
       "      <td>111.20</td>\n",
       "      <td>2019</td>\n",
       "      <td>1</td>\n",
       "    </tr>\n",
       "    <tr>\n",
       "      <th>1/10/2019</th>\n",
       "      <td>540561</td>\n",
       "      <td>1/10/2019</td>\n",
       "      <td>22356</td>\n",
       "      <td>Charlotte Bag Pink Polkadot</td>\n",
       "      <td>11.12</td>\n",
       "      <td>10</td>\n",
       "      <td>13004.0</td>\n",
       "      <td>United Kingdom</td>\n",
       "      <td>111.20</td>\n",
       "      <td>2019</td>\n",
       "      <td>1</td>\n",
       "    </tr>\n",
       "  </tbody>\n",
       "</table>\n",
       "</div>"
      ],
      "text/plain": [
       "          TransactionNo       Date ProductNo                     ProductName  \\\n",
       "Date                                                                           \n",
       "1/10/2019        540551  1/10/2019    84596J     Mixed Nuts Light Green Bowl   \n",
       "1/10/2019        540561  1/10/2019     21232  Strawberry Ceramic Trinket Pot   \n",
       "1/10/2019        540561  1/10/2019     84580     Mouse Toy With Pink T-Shirt   \n",
       "1/10/2019        540561  1/10/2019     22355       Charlotte Bag Suki Design   \n",
       "1/10/2019        540561  1/10/2019     22356     Charlotte Bag Pink Polkadot   \n",
       "\n",
       "           Price  Quantity  CustomerNo         Country   total  year  month  \n",
       "Date                                                                         \n",
       "1/10/2019  11.12         7     14551.0  United Kingdom   77.84  2019      1  \n",
       "1/10/2019  11.53        12     13004.0  United Kingdom  138.36  2019      1  \n",
       "1/10/2019  14.09         4     13004.0  United Kingdom   56.36  2019      1  \n",
       "1/10/2019  11.12        10     13004.0  United Kingdom  111.20  2019      1  \n",
       "1/10/2019  11.12        10     13004.0  United Kingdom  111.20  2019      1  "
      ]
     },
     "execution_count": 105,
     "metadata": {},
     "output_type": "execute_result"
    }
   ],
   "source": [
    "df19.head()"
   ]
  },
  {
   "cell_type": "code",
   "execution_count": 106,
   "id": "ea04c4e3-05ac-4969-adc3-3a6b7540c321",
   "metadata": {
    "tags": []
   },
   "outputs": [
    {
     "data": {
      "text/plain": [
       "CustomerNo\n",
       "14646.0    2034288.91\n",
       "12415.0     895267.24\n",
       "17450.0     866310.31\n",
       "14911.0     836048.25\n",
       "18102.0     799971.29\n",
       "Name: total, dtype: float64"
      ]
     },
     "execution_count": 106,
     "metadata": {},
     "output_type": "execute_result"
    }
   ],
   "source": [
    "# creating a customers group and take sum of their total purchase they have\n",
    "# to see which customers have the most profit and creating top 5\n",
    "customers = df19.groupby(\"CustomerNo\")\n",
    "top_5_cust = customers.sum()[\"total\"].sort_values(ascending=False).iloc[:5]\n",
    "top_5_cust"
   ]
  },
  {
   "cell_type": "code",
   "execution_count": 107,
   "id": "05f2e953-5808-4bd1-9f4a-660f8b955211",
   "metadata": {
    "tags": []
   },
   "outputs": [
    {
     "data": {
      "text/html": [
       "<div>\n",
       "<style scoped>\n",
       "    .dataframe tbody tr th:only-of-type {\n",
       "        vertical-align: middle;\n",
       "    }\n",
       "\n",
       "    .dataframe tbody tr th {\n",
       "        vertical-align: top;\n",
       "    }\n",
       "\n",
       "    .dataframe thead th {\n",
       "        text-align: right;\n",
       "    }\n",
       "</style>\n",
       "<table border=\"1\" class=\"dataframe\">\n",
       "  <thead>\n",
       "    <tr style=\"text-align: right;\">\n",
       "      <th></th>\n",
       "      <th>TransactionNo</th>\n",
       "      <th>Date</th>\n",
       "      <th>ProductNo</th>\n",
       "      <th>ProductName</th>\n",
       "      <th>Price</th>\n",
       "      <th>Quantity</th>\n",
       "      <th>CustomerNo</th>\n",
       "      <th>Country</th>\n",
       "      <th>total</th>\n",
       "      <th>year</th>\n",
       "      <th>month</th>\n",
       "    </tr>\n",
       "  </thead>\n",
       "  <tbody>\n",
       "    <tr>\n",
       "      <th>485336</th>\n",
       "      <td>540557</td>\n",
       "      <td>1/10/2019</td>\n",
       "      <td>22523</td>\n",
       "      <td>Childs Garden Fork Pink</td>\n",
       "      <td>11.12</td>\n",
       "      <td>96</td>\n",
       "      <td>12415.0</td>\n",
       "      <td>Australia</td>\n",
       "      <td>1067.52</td>\n",
       "      <td>2019</td>\n",
       "      <td>1</td>\n",
       "    </tr>\n",
       "    <tr>\n",
       "      <th>483381</th>\n",
       "      <td>540698</td>\n",
       "      <td>1/11/2019</td>\n",
       "      <td>22350</td>\n",
       "      <td>Illustrated Cat Bowl</td>\n",
       "      <td>13.01</td>\n",
       "      <td>30</td>\n",
       "      <td>17450.0</td>\n",
       "      <td>United Kingdom</td>\n",
       "      <td>390.30</td>\n",
       "      <td>2019</td>\n",
       "      <td>1</td>\n",
       "    </tr>\n",
       "    <tr>\n",
       "      <th>483382</th>\n",
       "      <td>540698</td>\n",
       "      <td>1/11/2019</td>\n",
       "      <td>22853</td>\n",
       "      <td>Cat Bowl Vintage Cream</td>\n",
       "      <td>13.79</td>\n",
       "      <td>16</td>\n",
       "      <td>17450.0</td>\n",
       "      <td>United Kingdom</td>\n",
       "      <td>220.64</td>\n",
       "      <td>2019</td>\n",
       "      <td>1</td>\n",
       "    </tr>\n",
       "    <tr>\n",
       "      <th>483383</th>\n",
       "      <td>540698</td>\n",
       "      <td>1/11/2019</td>\n",
       "      <td>22852</td>\n",
       "      <td>Dog Bowl Vintage Cream</td>\n",
       "      <td>14.99</td>\n",
       "      <td>16</td>\n",
       "      <td>17450.0</td>\n",
       "      <td>United Kingdom</td>\n",
       "      <td>239.84</td>\n",
       "      <td>2019</td>\n",
       "      <td>1</td>\n",
       "    </tr>\n",
       "    <tr>\n",
       "      <th>483384</th>\n",
       "      <td>540698</td>\n",
       "      <td>1/11/2019</td>\n",
       "      <td>22845</td>\n",
       "      <td>Vintage Cream Cat Food Container</td>\n",
       "      <td>17.33</td>\n",
       "      <td>16</td>\n",
       "      <td>17450.0</td>\n",
       "      <td>United Kingdom</td>\n",
       "      <td>277.28</td>\n",
       "      <td>2019</td>\n",
       "      <td>1</td>\n",
       "    </tr>\n",
       "  </tbody>\n",
       "</table>\n",
       "</div>"
      ],
      "text/plain": [
       "       TransactionNo       Date ProductNo                       ProductName  \\\n",
       "485336        540557  1/10/2019     22523           Childs Garden Fork Pink   \n",
       "483381        540698  1/11/2019     22350              Illustrated Cat Bowl   \n",
       "483382        540698  1/11/2019     22853            Cat Bowl Vintage Cream   \n",
       "483383        540698  1/11/2019     22852            Dog Bowl Vintage Cream   \n",
       "483384        540698  1/11/2019     22845  Vintage Cream Cat Food Container   \n",
       "\n",
       "        Price  Quantity  CustomerNo         Country    total  year  month  \n",
       "485336  11.12        96     12415.0       Australia  1067.52  2019      1  \n",
       "483381  13.01        30     17450.0  United Kingdom   390.30  2019      1  \n",
       "483382  13.79        16     17450.0  United Kingdom   220.64  2019      1  \n",
       "483383  14.99        16     17450.0  United Kingdom   239.84  2019      1  \n",
       "483384  17.33        16     17450.0  United Kingdom   277.28  2019      1  "
      ]
     },
     "execution_count": 107,
     "metadata": {},
     "output_type": "execute_result"
    }
   ],
   "source": [
    "# creating top 5 customers dataframe\n",
    "\n",
    "top_5_c = df19outofcan[df19outofcan.CustomerNo.isin([14646.0,12415.0,17450.0,14911.0,18102.0])]\n",
    "top_5_c.head()"
   ]
  },
  {
   "cell_type": "code",
   "execution_count": 108,
   "id": "44c79efb-5286-47ae-9197-5dfa57792ac9",
   "metadata": {
    "tags": []
   },
   "outputs": [
    {
     "data": {
      "text/plain": [
       "Regency Cakestand 3 Tier              57\n",
       "Cream Hanging Heart T-Light Holder    42\n",
       "Roses Regency Teacup And Saucer       40\n",
       "Set Of 3 Regency Cake Tins            39\n",
       "Jam Making Set With Jars              36\n",
       "                                      ..\n",
       "Photo Frame Linen And Lace Large       1\n",
       "Blue Knitted Egg Cosy                  1\n",
       "Jardin Etched Glass Cheese Dish        1\n",
       "Set 12 Lavender Botanical T-Lights     1\n",
       "White Brocante Soap Dish               1\n",
       "Name: ProductName, Length: 1995, dtype: int64"
      ]
     },
     "execution_count": 108,
     "metadata": {},
     "output_type": "execute_result"
    }
   ],
   "source": [
    "# now i want to check what products they buy Frequently \n",
    "\n",
    "top_5_c.ProductName.value_counts()"
   ]
  },
  {
   "cell_type": "code",
   "execution_count": 109,
   "id": "3e592136-7b8a-4bcf-ab6c-314a2b5439b1",
   "metadata": {
    "tags": []
   },
   "outputs": [
    {
     "data": {
      "text/plain": [
       "array([  96,   30,   16,    6,   20,   48,   36,  186,  114,   24, 1284,\n",
       "       1356,  860, 1010,   12,    8,   18,   15,    9,    4,   32,  100,\n",
       "         72,  120,  240,  144,  192,  288,   40,  200,   64,   60,   50,\n",
       "        128,  108,  384, 1440,  256,    2,   10,    3,    1,   25,    5,\n",
       "        576,   80,  160,  168,  640,  360,  400,  300, 1728,  112,  126,\n",
       "        432,  176,  456,   17, 2400,   42,   78,   84,  252,  216,  104,\n",
       "        180,   13,   44,   28,  136,  236,  250,    7,  320,   90,  960,\n",
       "         75,  600,  760,   56,  152,  139,  416,  224,  630,  992,   54,\n",
       "        264,  324,  698,  204,  140,  480,  504,  208,  342,  378,  304,\n",
       "       1200,  101,   85,  420,  408,  552,  888,  756,  738,  608,  330,\n",
       "        188,  612,  588,  156,   74,   34,  150,   83,   87,   79,  102,\n",
       "        352,  124,  248,  410,  500,  222,  696,  230,  210,  196,  336,\n",
       "        448,  720, 1152,  350,   93,  450,   92,  528,  852, 1412, 1428,\n",
       "        708,  666,  306, 1878, 1944,  744,  496,  624,  396,  132])"
      ]
     },
     "execution_count": 109,
     "metadata": {},
     "output_type": "execute_result"
    }
   ],
   "source": [
    "# some Explorations\n",
    "# its obvious they buys for business\n",
    "\n",
    "top_5_c.Quantity.unique()"
   ]
  },
  {
   "cell_type": "code",
   "execution_count": 111,
   "id": "b68dec19-fb99-43a5-9ee4-c5ab50ee3e79",
   "metadata": {
    "tags": []
   },
   "outputs": [
    {
     "data": {
      "text/html": [
       "<div>\n",
       "<style scoped>\n",
       "    .dataframe tbody tr th:only-of-type {\n",
       "        vertical-align: middle;\n",
       "    }\n",
       "\n",
       "    .dataframe tbody tr th {\n",
       "        vertical-align: top;\n",
       "    }\n",
       "\n",
       "    .dataframe thead th {\n",
       "        text-align: right;\n",
       "    }\n",
       "</style>\n",
       "<table border=\"1\" class=\"dataframe\">\n",
       "  <thead>\n",
       "    <tr style=\"text-align: right;\">\n",
       "      <th></th>\n",
       "      <th>TransactionNo</th>\n",
       "      <th>Date</th>\n",
       "      <th>ProductNo</th>\n",
       "      <th>ProductName</th>\n",
       "      <th>Price</th>\n",
       "      <th>Quantity</th>\n",
       "      <th>CustomerNo</th>\n",
       "      <th>Country</th>\n",
       "      <th>total</th>\n",
       "      <th>year</th>\n",
       "      <th>month</th>\n",
       "    </tr>\n",
       "  </thead>\n",
       "  <tbody>\n",
       "    <tr>\n",
       "      <th>117762</th>\n",
       "      <td>573003</td>\n",
       "      <td>10/27/2019</td>\n",
       "      <td>23084</td>\n",
       "      <td>Rabbit Night Light</td>\n",
       "      <td>12.38</td>\n",
       "      <td>2400</td>\n",
       "      <td>14646.0</td>\n",
       "      <td>Netherlands</td>\n",
       "      <td>29712.00</td>\n",
       "      <td>2019</td>\n",
       "      <td>10</td>\n",
       "    </tr>\n",
       "    <tr>\n",
       "      <th>190978</th>\n",
       "      <td>567423</td>\n",
       "      <td>9/20/2019</td>\n",
       "      <td>23288</td>\n",
       "      <td>Green Vintage Spot Beaker</td>\n",
       "      <td>11.36</td>\n",
       "      <td>1944</td>\n",
       "      <td>17450.0</td>\n",
       "      <td>United Kingdom</td>\n",
       "      <td>22083.84</td>\n",
       "      <td>2019</td>\n",
       "      <td>9</td>\n",
       "    </tr>\n",
       "    <tr>\n",
       "      <th>190979</th>\n",
       "      <td>567423</td>\n",
       "      <td>9/20/2019</td>\n",
       "      <td>23285</td>\n",
       "      <td>Pink Vintage Spot Beaker</td>\n",
       "      <td>11.36</td>\n",
       "      <td>1944</td>\n",
       "      <td>17450.0</td>\n",
       "      <td>United Kingdom</td>\n",
       "      <td>22083.84</td>\n",
       "      <td>2019</td>\n",
       "      <td>9</td>\n",
       "    </tr>\n",
       "    <tr>\n",
       "      <th>190977</th>\n",
       "      <td>567423</td>\n",
       "      <td>9/20/2019</td>\n",
       "      <td>23286</td>\n",
       "      <td>Blue Vintage Spot Beaker</td>\n",
       "      <td>11.36</td>\n",
       "      <td>1878</td>\n",
       "      <td>17450.0</td>\n",
       "      <td>United Kingdom</td>\n",
       "      <td>21334.08</td>\n",
       "      <td>2019</td>\n",
       "      <td>9</td>\n",
       "    </tr>\n",
       "    <tr>\n",
       "      <th>131193</th>\n",
       "      <td>572052</td>\n",
       "      <td>10/20/2019</td>\n",
       "      <td>22595</td>\n",
       "      <td>Gingham Heart Decoration</td>\n",
       "      <td>10.99</td>\n",
       "      <td>1728</td>\n",
       "      <td>14646.0</td>\n",
       "      <td>Netherlands</td>\n",
       "      <td>18990.72</td>\n",
       "      <td>2019</td>\n",
       "      <td>10</td>\n",
       "    </tr>\n",
       "  </tbody>\n",
       "</table>\n",
       "</div>"
      ],
      "text/plain": [
       "       TransactionNo        Date ProductNo                ProductName  Price  \\\n",
       "117762        573003  10/27/2019     23084         Rabbit Night Light  12.38   \n",
       "190978        567423   9/20/2019     23288  Green Vintage Spot Beaker  11.36   \n",
       "190979        567423   9/20/2019     23285   Pink Vintage Spot Beaker  11.36   \n",
       "190977        567423   9/20/2019     23286   Blue Vintage Spot Beaker  11.36   \n",
       "131193        572052  10/20/2019     22595   Gingham Heart Decoration  10.99   \n",
       "\n",
       "        Quantity  CustomerNo         Country     total  year  month  \n",
       "117762      2400     14646.0     Netherlands  29712.00  2019     10  \n",
       "190978      1944     17450.0  United Kingdom  22083.84  2019      9  \n",
       "190979      1944     17450.0  United Kingdom  22083.84  2019      9  \n",
       "190977      1878     17450.0  United Kingdom  21334.08  2019      9  \n",
       "131193      1728     14646.0     Netherlands  18990.72  2019     10  "
      ]
     },
     "execution_count": 111,
     "metadata": {},
     "output_type": "execute_result"
    }
   ],
   "source": [
    "# checking top 5 Based on Quantity in top 5 customers\n",
    "\n",
    "top_5_c.sort_values('Quantity',ascending=False).head()"
   ]
  },
  {
   "cell_type": "code",
   "execution_count": 112,
   "id": "ce897f07-f362-430b-a35e-43aac1d2f96f",
   "metadata": {
    "tags": []
   },
   "outputs": [
    {
     "name": "stdout",
     "output_type": "stream",
     "text": [
      "<class 'pandas.core.frame.DataFrame'>\n",
      "Int64Index: 7882 entries, 484703 to 207656\n",
      "Data columns (total 11 columns):\n",
      " #   Column         Non-Null Count  Dtype  \n",
      "---  ------         --------------  -----  \n",
      " 0   TransactionNo  7882 non-null   object \n",
      " 1   Date           7882 non-null   object \n",
      " 2   ProductNo      7882 non-null   object \n",
      " 3   ProductName    7882 non-null   object \n",
      " 4   Price          7882 non-null   float64\n",
      " 5   Quantity       7882 non-null   int64  \n",
      " 6   CustomerNo     7831 non-null   float64\n",
      " 7   Country        7882 non-null   object \n",
      " 8   total          7882 non-null   float64\n",
      " 9   year           7882 non-null   int64  \n",
      " 10  month          7882 non-null   int64  \n",
      "dtypes: float64(3), int64(3), object(5)\n",
      "memory usage: 738.9+ KB\n"
     ]
    }
   ],
   "source": [
    "# now i will explore canceled Transaactions\n",
    "\n",
    "df19canceled.info()"
   ]
  },
  {
   "cell_type": "code",
   "execution_count": 113,
   "id": "8fe94860-d6e7-4d26-939b-57e1a3d2ace9",
   "metadata": {
    "tags": []
   },
   "outputs": [
    {
     "data": {
      "text/plain": [
       "CustomerNo\n",
       "16446.0   -80995\n",
       "12346.0   -74215\n",
       "15749.0    -9014\n",
       "16029.0    -6420\n",
       "12931.0    -4427\n",
       "           ...  \n",
       "16271.0       -1\n",
       "15136.0       -1\n",
       "13598.0       -1\n",
       "17175.0       -1\n",
       "15796.0       -1\n",
       "Name: Quantity, Length: 1436, dtype: int64"
      ]
     },
     "execution_count": 113,
     "metadata": {},
     "output_type": "execute_result"
    }
   ],
   "source": [
    "cancel_c = df19canceled.groupby(\"CustomerNo\")\n",
    "canceld_q = cancel_c.Quantity.sum()\n",
    "canceld_q.sort_values()"
   ]
  },
  {
   "cell_type": "code",
   "execution_count": 114,
   "id": "9eaba24e-1a6a-4b91-9868-4a28f5b49568",
   "metadata": {
    "tags": []
   },
   "outputs": [
    {
     "data": {
      "text/plain": [
       "Regency Cakestand 3 Tier            167\n",
       "Jam Making Set With Jars             81\n",
       "Set Of 3 Cake Tins Pantry Design     70\n",
       "Strawberry Ceramic Trinket Pot       56\n",
       "Roses Regency Teacup And Saucer      52\n",
       "                                   ... \n",
       "Regency Cake Fork                     1\n",
       "White Sage Incense                    1\n",
       "Feather Pen Hot Pink                  1\n",
       "Large Ivory Heart Wall Organiser      1\n",
       "Spaceboy Childrens Egg Cup            1\n",
       "Name: ProductName, Length: 1848, dtype: int64"
      ]
     },
     "execution_count": 114,
     "metadata": {},
     "output_type": "execute_result"
    }
   ],
   "source": [
    "df19canceled.ProductName.value_counts()"
   ]
  },
  {
   "cell_type": "code",
   "execution_count": 127,
   "id": "6455dd25-0ef1-40a2-aacd-c460a9f9835a",
   "metadata": {
    "tags": []
   },
   "outputs": [
    {
     "data": {
      "text/plain": [
       "ProductName\n",
       "Paper Craft Little Birdie            -80995\n",
       "Medium Ceramic Top Storage Jar       -74494\n",
       "Fairy Cake Flannel Assorted Colour    -3150\n",
       "Cream Hanging Heart T-Light Holder    -2050\n",
       "Gin And Tonic Diet Metal Sign         -2029\n",
       "Herb Marker Basil                     -1527\n",
       "Feltcraft Doll Molly                  -1444\n",
       "Tea Time Party Bunting                -1424\n",
       "Paper Pocket Traveling Fan            -1385\n",
       "Pink Blue Felt Craft Trinket Box      -1321\n",
       "Name: Quantity, dtype: int64"
      ]
     },
     "execution_count": 127,
     "metadata": {},
     "output_type": "execute_result"
    }
   ],
   "source": [
    "# let's see what is the most frequent canceled product\n",
    "top_10_canceled = df19canceled.groupby('ProductName').Quantity.sum().sort_values()[:10]\n",
    "top_10_canceled"
   ]
  },
  {
   "cell_type": "code",
   "execution_count": 116,
   "id": "a5a362f2-f552-4129-bbdc-dc042abebb37",
   "metadata": {
    "tags": []
   },
   "outputs": [
    {
     "data": {
      "text/html": [
       "<div>\n",
       "<style scoped>\n",
       "    .dataframe tbody tr th:only-of-type {\n",
       "        vertical-align: middle;\n",
       "    }\n",
       "\n",
       "    .dataframe tbody tr th {\n",
       "        vertical-align: top;\n",
       "    }\n",
       "\n",
       "    .dataframe thead th {\n",
       "        text-align: right;\n",
       "    }\n",
       "</style>\n",
       "<table border=\"1\" class=\"dataframe\">\n",
       "  <thead>\n",
       "    <tr style=\"text-align: right;\">\n",
       "      <th></th>\n",
       "      <th>TransactionNo</th>\n",
       "      <th>Date</th>\n",
       "      <th>ProductNo</th>\n",
       "      <th>ProductName</th>\n",
       "      <th>Price</th>\n",
       "      <th>Quantity</th>\n",
       "      <th>CustomerNo</th>\n",
       "      <th>Country</th>\n",
       "      <th>total</th>\n",
       "      <th>year</th>\n",
       "      <th>month</th>\n",
       "    </tr>\n",
       "  </thead>\n",
       "  <tbody>\n",
       "    <tr>\n",
       "      <th>142</th>\n",
       "      <td>581483</td>\n",
       "      <td>12/9/2019</td>\n",
       "      <td>23843</td>\n",
       "      <td>Paper Craft Little Birdie</td>\n",
       "      <td>12.38</td>\n",
       "      <td>80995</td>\n",
       "      <td>16446.0</td>\n",
       "      <td>United Kingdom</td>\n",
       "      <td>1002718.10</td>\n",
       "      <td>2019</td>\n",
       "      <td>12</td>\n",
       "    </tr>\n",
       "    <tr>\n",
       "      <th>1616</th>\n",
       "      <td>C581484</td>\n",
       "      <td>12/9/2019</td>\n",
       "      <td>23843</td>\n",
       "      <td>Paper Craft Little Birdie</td>\n",
       "      <td>6.19</td>\n",
       "      <td>-80995</td>\n",
       "      <td>16446.0</td>\n",
       "      <td>United Kingdom</td>\n",
       "      <td>-501359.05</td>\n",
       "      <td>2019</td>\n",
       "      <td>12</td>\n",
       "    </tr>\n",
       "    <tr>\n",
       "      <th>343125</th>\n",
       "      <td>553573</td>\n",
       "      <td>5/18/2019</td>\n",
       "      <td>22980</td>\n",
       "      <td>Pantry Scrubbing Brush</td>\n",
       "      <td>11.94</td>\n",
       "      <td>1</td>\n",
       "      <td>16446.0</td>\n",
       "      <td>United Kingdom</td>\n",
       "      <td>11.94</td>\n",
       "      <td>2019</td>\n",
       "      <td>5</td>\n",
       "    </tr>\n",
       "    <tr>\n",
       "      <th>343126</th>\n",
       "      <td>553573</td>\n",
       "      <td>5/18/2019</td>\n",
       "      <td>22982</td>\n",
       "      <td>Pantry Pastry Brush</td>\n",
       "      <td>11.53</td>\n",
       "      <td>1</td>\n",
       "      <td>16446.0</td>\n",
       "      <td>United Kingdom</td>\n",
       "      <td>11.53</td>\n",
       "      <td>2019</td>\n",
       "      <td>5</td>\n",
       "    </tr>\n",
       "  </tbody>\n",
       "</table>\n",
       "</div>"
      ],
      "text/plain": [
       "       TransactionNo       Date ProductNo                ProductName  Price  \\\n",
       "142           581483  12/9/2019     23843  Paper Craft Little Birdie  12.38   \n",
       "1616         C581484  12/9/2019     23843  Paper Craft Little Birdie   6.19   \n",
       "343125        553573  5/18/2019     22980     Pantry Scrubbing Brush  11.94   \n",
       "343126        553573  5/18/2019     22982        Pantry Pastry Brush  11.53   \n",
       "\n",
       "        Quantity  CustomerNo         Country       total  year  month  \n",
       "142        80995     16446.0  United Kingdom  1002718.10  2019     12  \n",
       "1616      -80995     16446.0  United Kingdom  -501359.05  2019     12  \n",
       "343125         1     16446.0  United Kingdom       11.94  2019      5  \n",
       "343126         1     16446.0  United Kingdom       11.53  2019      5  "
      ]
     },
     "execution_count": 116,
     "metadata": {},
     "output_type": "execute_result"
    }
   ],
   "source": [
    "# Checking this customer all of his Data\n",
    "# I find out this customer buys lots of Paper Craft little birdie at once\n",
    "# I assume he is in the business of mentioned product\n",
    "# he bought 80995 in first transactoin and after 50% discount on the product he ordered again\n",
    "# because the product was out of the stuck at the moment or we did not have that larg quantity he canceled\n",
    "# his order\n",
    "# No i was wrong after checking data i find out the 80995 order is just a error that happend during \n",
    "# Data collection process.\n",
    "\n",
    "df[df.CustomerNo == 16446.0]"
   ]
  },
  {
   "cell_type": "code",
   "execution_count": 135,
   "id": "b91fd4ac-1d92-4a61-a58f-cb0185e694ac",
   "metadata": {
    "tags": []
   },
   "outputs": [],
   "source": [
    "# now i want to remove these values out of DataFrame because both of them is an error\n",
    "\n",
    "df = df[~(df.Quantity > 70000)|(df.Quantity < -50000)]\n",
    "# now i have to do all the things i have done again with this new clean data"
   ]
  },
  {
   "cell_type": "code",
   "execution_count": 118,
   "id": "702763cf-dddf-4441-af90-1f4f8f3e5eed",
   "metadata": {
    "tags": []
   },
   "outputs": [
    {
     "data": {
      "text/html": [
       "<div>\n",
       "<style scoped>\n",
       "    .dataframe tbody tr th:only-of-type {\n",
       "        vertical-align: middle;\n",
       "    }\n",
       "\n",
       "    .dataframe tbody tr th {\n",
       "        vertical-align: top;\n",
       "    }\n",
       "\n",
       "    .dataframe thead th {\n",
       "        text-align: right;\n",
       "    }\n",
       "</style>\n",
       "<table border=\"1\" class=\"dataframe\">\n",
       "  <thead>\n",
       "    <tr style=\"text-align: right;\">\n",
       "      <th></th>\n",
       "      <th>TransactionNo</th>\n",
       "      <th>Date</th>\n",
       "      <th>ProductNo</th>\n",
       "      <th>ProductName</th>\n",
       "      <th>Price</th>\n",
       "      <th>Quantity</th>\n",
       "      <th>CustomerNo</th>\n",
       "      <th>Country</th>\n",
       "      <th>total</th>\n",
       "      <th>year</th>\n",
       "      <th>month</th>\n",
       "    </tr>\n",
       "    <tr>\n",
       "      <th>Date</th>\n",
       "      <th></th>\n",
       "      <th></th>\n",
       "      <th></th>\n",
       "      <th></th>\n",
       "      <th></th>\n",
       "      <th></th>\n",
       "      <th></th>\n",
       "      <th></th>\n",
       "      <th></th>\n",
       "      <th></th>\n",
       "      <th></th>\n",
       "    </tr>\n",
       "  </thead>\n",
       "  <tbody>\n",
       "    <tr>\n",
       "      <th>1/18/2019</th>\n",
       "      <td>C541433</td>\n",
       "      <td>1/18/2019</td>\n",
       "      <td>23166</td>\n",
       "      <td>Medium Ceramic Top Storage Jar</td>\n",
       "      <td>11.32</td>\n",
       "      <td>-74215</td>\n",
       "      <td>12346.0</td>\n",
       "      <td>United Kingdom</td>\n",
       "      <td>-840113.80</td>\n",
       "      <td>2019</td>\n",
       "      <td>1</td>\n",
       "    </tr>\n",
       "    <tr>\n",
       "      <th>10/11/2019</th>\n",
       "      <td>C570556</td>\n",
       "      <td>10/11/2019</td>\n",
       "      <td>20971</td>\n",
       "      <td>Pink Blue Felt Craft Trinket Box</td>\n",
       "      <td>11.34</td>\n",
       "      <td>-1296</td>\n",
       "      <td>16029.0</td>\n",
       "      <td>United Kingdom</td>\n",
       "      <td>-14696.64</td>\n",
       "      <td>2019</td>\n",
       "      <td>10</td>\n",
       "    </tr>\n",
       "    <tr>\n",
       "      <th>10/4/2019</th>\n",
       "      <td>C569552</td>\n",
       "      <td>10/4/2019</td>\n",
       "      <td>15034</td>\n",
       "      <td>Paper Pocket Traveling Fan</td>\n",
       "      <td>10.32</td>\n",
       "      <td>-1200</td>\n",
       "      <td>14533.0</td>\n",
       "      <td>United Kingdom</td>\n",
       "      <td>-12384.00</td>\n",
       "      <td>2019</td>\n",
       "      <td>10</td>\n",
       "    </tr>\n",
       "    <tr>\n",
       "      <th>12/9/2019</th>\n",
       "      <td>C581484</td>\n",
       "      <td>12/9/2019</td>\n",
       "      <td>23843</td>\n",
       "      <td>Paper Craft Little Birdie</td>\n",
       "      <td>6.19</td>\n",
       "      <td>-80995</td>\n",
       "      <td>16446.0</td>\n",
       "      <td>United Kingdom</td>\n",
       "      <td>-501359.05</td>\n",
       "      <td>2019</td>\n",
       "      <td>12</td>\n",
       "    </tr>\n",
       "    <tr>\n",
       "      <th>4/18/2019</th>\n",
       "      <td>C550456</td>\n",
       "      <td>4/18/2019</td>\n",
       "      <td>21108</td>\n",
       "      <td>Fairy Cake Flannel Assorted Colour</td>\n",
       "      <td>12.40</td>\n",
       "      <td>-3114</td>\n",
       "      <td>15749.0</td>\n",
       "      <td>United Kingdom</td>\n",
       "      <td>-38613.60</td>\n",
       "      <td>2019</td>\n",
       "      <td>4</td>\n",
       "    </tr>\n",
       "    <tr>\n",
       "      <th>4/18/2019</th>\n",
       "      <td>C550456</td>\n",
       "      <td>4/18/2019</td>\n",
       "      <td>21175</td>\n",
       "      <td>Gin And Tonic Diet Metal Sign</td>\n",
       "      <td>12.15</td>\n",
       "      <td>-2000</td>\n",
       "      <td>15749.0</td>\n",
       "      <td>United Kingdom</td>\n",
       "      <td>-24300.00</td>\n",
       "      <td>2019</td>\n",
       "      <td>4</td>\n",
       "    </tr>\n",
       "    <tr>\n",
       "      <th>4/18/2019</th>\n",
       "      <td>C550456</td>\n",
       "      <td>4/18/2019</td>\n",
       "      <td>85123A</td>\n",
       "      <td>Cream Hanging Heart T-Light Holder</td>\n",
       "      <td>12.86</td>\n",
       "      <td>-1930</td>\n",
       "      <td>15749.0</td>\n",
       "      <td>United Kingdom</td>\n",
       "      <td>-24819.80</td>\n",
       "      <td>2019</td>\n",
       "      <td>4</td>\n",
       "    </tr>\n",
       "    <tr>\n",
       "      <th>4/18/2019</th>\n",
       "      <td>C550456</td>\n",
       "      <td>4/18/2019</td>\n",
       "      <td>47566B</td>\n",
       "      <td>Tea Time Party Bunting</td>\n",
       "      <td>12.86</td>\n",
       "      <td>-1300</td>\n",
       "      <td>15749.0</td>\n",
       "      <td>United Kingdom</td>\n",
       "      <td>-16718.00</td>\n",
       "      <td>2019</td>\n",
       "      <td>4</td>\n",
       "    </tr>\n",
       "    <tr>\n",
       "      <th>6/13/2019</th>\n",
       "      <td>C556522</td>\n",
       "      <td>6/13/2019</td>\n",
       "      <td>22920</td>\n",
       "      <td>Herb Marker Basil</td>\n",
       "      <td>10.81</td>\n",
       "      <td>-1515</td>\n",
       "      <td>16938.0</td>\n",
       "      <td>United Kingdom</td>\n",
       "      <td>-16377.15</td>\n",
       "      <td>2019</td>\n",
       "      <td>6</td>\n",
       "    </tr>\n",
       "  </tbody>\n",
       "</table>\n",
       "</div>"
      ],
      "text/plain": [
       "           TransactionNo        Date ProductNo  \\\n",
       "Date                                             \n",
       "1/18/2019        C541433   1/18/2019     23166   \n",
       "10/11/2019       C570556  10/11/2019     20971   \n",
       "10/4/2019        C569552   10/4/2019     15034   \n",
       "12/9/2019        C581484   12/9/2019     23843   \n",
       "4/18/2019        C550456   4/18/2019     21108   \n",
       "4/18/2019        C550456   4/18/2019     21175   \n",
       "4/18/2019        C550456   4/18/2019    85123A   \n",
       "4/18/2019        C550456   4/18/2019    47566B   \n",
       "6/13/2019        C556522   6/13/2019     22920   \n",
       "\n",
       "                                   ProductName  Price  Quantity  CustomerNo  \\\n",
       "Date                                                                          \n",
       "1/18/2019       Medium Ceramic Top Storage Jar  11.32    -74215     12346.0   \n",
       "10/11/2019    Pink Blue Felt Craft Trinket Box  11.34     -1296     16029.0   \n",
       "10/4/2019           Paper Pocket Traveling Fan  10.32     -1200     14533.0   \n",
       "12/9/2019            Paper Craft Little Birdie   6.19    -80995     16446.0   \n",
       "4/18/2019   Fairy Cake Flannel Assorted Colour  12.40     -3114     15749.0   \n",
       "4/18/2019        Gin And Tonic Diet Metal Sign  12.15     -2000     15749.0   \n",
       "4/18/2019   Cream Hanging Heart T-Light Holder  12.86     -1930     15749.0   \n",
       "4/18/2019               Tea Time Party Bunting  12.86     -1300     15749.0   \n",
       "6/13/2019                    Herb Marker Basil  10.81     -1515     16938.0   \n",
       "\n",
       "                   Country      total  year  month  \n",
       "Date                                                \n",
       "1/18/2019   United Kingdom -840113.80  2019      1  \n",
       "10/11/2019  United Kingdom  -14696.64  2019     10  \n",
       "10/4/2019   United Kingdom  -12384.00  2019     10  \n",
       "12/9/2019   United Kingdom -501359.05  2019     12  \n",
       "4/18/2019   United Kingdom  -38613.60  2019      4  \n",
       "4/18/2019   United Kingdom  -24300.00  2019      4  \n",
       "4/18/2019   United Kingdom  -24819.80  2019      4  \n",
       "4/18/2019   United Kingdom  -16718.00  2019      4  \n",
       "6/13/2019   United Kingdom  -16377.15  2019      6  "
      ]
     },
     "execution_count": 118,
     "metadata": {},
     "output_type": "execute_result"
    }
   ],
   "source": [
    "# now i will check the secound biggest cancelation which is over -74000\n",
    "df19.loc[df19.Quantity < -1000]"
   ]
  },
  {
   "cell_type": "code",
   "execution_count": 129,
   "id": "868297a2-03df-4c63-afa3-ec4c3692951c",
   "metadata": {
    "tags": []
   },
   "outputs": [
    {
     "data": {
      "text/html": [
       "<div>\n",
       "<style scoped>\n",
       "    .dataframe tbody tr th:only-of-type {\n",
       "        vertical-align: middle;\n",
       "    }\n",
       "\n",
       "    .dataframe tbody tr th {\n",
       "        vertical-align: top;\n",
       "    }\n",
       "\n",
       "    .dataframe thead th {\n",
       "        text-align: right;\n",
       "    }\n",
       "</style>\n",
       "<table border=\"1\" class=\"dataframe\">\n",
       "  <thead>\n",
       "    <tr style=\"text-align: right;\">\n",
       "      <th></th>\n",
       "      <th>TransactionNo</th>\n",
       "      <th>Date</th>\n",
       "      <th>ProductNo</th>\n",
       "      <th>ProductName</th>\n",
       "      <th>Price</th>\n",
       "      <th>Quantity</th>\n",
       "      <th>CustomerNo</th>\n",
       "      <th>Country</th>\n",
       "      <th>total</th>\n",
       "      <th>year</th>\n",
       "      <th>month</th>\n",
       "    </tr>\n",
       "  </thead>\n",
       "  <tbody>\n",
       "    <tr>\n",
       "      <th>378552</th>\n",
       "      <td>C550456</td>\n",
       "      <td>4/18/2019</td>\n",
       "      <td>21108</td>\n",
       "      <td>Fairy Cake Flannel Assorted Colour</td>\n",
       "      <td>12.40</td>\n",
       "      <td>-3114</td>\n",
       "      <td>15749.0</td>\n",
       "      <td>United Kingdom</td>\n",
       "      <td>-38613.6</td>\n",
       "      <td>2019</td>\n",
       "      <td>4</td>\n",
       "    </tr>\n",
       "    <tr>\n",
       "      <th>378551</th>\n",
       "      <td>C550456</td>\n",
       "      <td>4/18/2019</td>\n",
       "      <td>21175</td>\n",
       "      <td>Gin And Tonic Diet Metal Sign</td>\n",
       "      <td>12.15</td>\n",
       "      <td>-2000</td>\n",
       "      <td>15749.0</td>\n",
       "      <td>United Kingdom</td>\n",
       "      <td>-24300.0</td>\n",
       "      <td>2019</td>\n",
       "      <td>4</td>\n",
       "    </tr>\n",
       "    <tr>\n",
       "      <th>378550</th>\n",
       "      <td>C550456</td>\n",
       "      <td>4/18/2019</td>\n",
       "      <td>85123A</td>\n",
       "      <td>Cream Hanging Heart T-Light Holder</td>\n",
       "      <td>12.86</td>\n",
       "      <td>-1930</td>\n",
       "      <td>15749.0</td>\n",
       "      <td>United Kingdom</td>\n",
       "      <td>-24819.8</td>\n",
       "      <td>2019</td>\n",
       "      <td>4</td>\n",
       "    </tr>\n",
       "    <tr>\n",
       "      <th>378549</th>\n",
       "      <td>C550456</td>\n",
       "      <td>4/18/2019</td>\n",
       "      <td>47566B</td>\n",
       "      <td>Tea Time Party Bunting</td>\n",
       "      <td>12.86</td>\n",
       "      <td>-1300</td>\n",
       "      <td>15749.0</td>\n",
       "      <td>United Kingdom</td>\n",
       "      <td>-16718.0</td>\n",
       "      <td>2019</td>\n",
       "      <td>4</td>\n",
       "    </tr>\n",
       "    <tr>\n",
       "      <th>378548</th>\n",
       "      <td>C550456</td>\n",
       "      <td>4/18/2019</td>\n",
       "      <td>48185</td>\n",
       "      <td>Doormat Fairy Cake</td>\n",
       "      <td>17.17</td>\n",
       "      <td>-670</td>\n",
       "      <td>15749.0</td>\n",
       "      <td>United Kingdom</td>\n",
       "      <td>-11503.9</td>\n",
       "      <td>2019</td>\n",
       "      <td>4</td>\n",
       "    </tr>\n",
       "    <tr>\n",
       "      <th>376377</th>\n",
       "      <td>550461</td>\n",
       "      <td>4/18/2019</td>\n",
       "      <td>48185</td>\n",
       "      <td>Doormat Fairy Cake</td>\n",
       "      <td>16.76</td>\n",
       "      <td>670</td>\n",
       "      <td>15749.0</td>\n",
       "      <td>United Kingdom</td>\n",
       "      <td>11229.2</td>\n",
       "      <td>2019</td>\n",
       "      <td>4</td>\n",
       "    </tr>\n",
       "    <tr>\n",
       "      <th>483860</th>\n",
       "      <td>540818</td>\n",
       "      <td>1/11/2019</td>\n",
       "      <td>48185</td>\n",
       "      <td>Doormat Fairy Cake</td>\n",
       "      <td>17.17</td>\n",
       "      <td>670</td>\n",
       "      <td>15749.0</td>\n",
       "      <td>United Kingdom</td>\n",
       "      <td>11503.9</td>\n",
       "      <td>2019</td>\n",
       "      <td>1</td>\n",
       "    </tr>\n",
       "    <tr>\n",
       "      <th>376376</th>\n",
       "      <td>550461</td>\n",
       "      <td>4/18/2019</td>\n",
       "      <td>47556B</td>\n",
       "      <td>Tea Time Tea Towels</td>\n",
       "      <td>12.40</td>\n",
       "      <td>1300</td>\n",
       "      <td>15749.0</td>\n",
       "      <td>United Kingdom</td>\n",
       "      <td>16120.0</td>\n",
       "      <td>2019</td>\n",
       "      <td>4</td>\n",
       "    </tr>\n",
       "    <tr>\n",
       "      <th>483859</th>\n",
       "      <td>540818</td>\n",
       "      <td>1/11/2019</td>\n",
       "      <td>47556B</td>\n",
       "      <td>Tea Time Tea Towels</td>\n",
       "      <td>12.86</td>\n",
       "      <td>1300</td>\n",
       "      <td>15749.0</td>\n",
       "      <td>United Kingdom</td>\n",
       "      <td>16718.0</td>\n",
       "      <td>2019</td>\n",
       "      <td>1</td>\n",
       "    </tr>\n",
       "    <tr>\n",
       "      <th>376375</th>\n",
       "      <td>550461</td>\n",
       "      <td>4/18/2019</td>\n",
       "      <td>85123A</td>\n",
       "      <td>Cream Hanging Heart T-Light Holder</td>\n",
       "      <td>12.71</td>\n",
       "      <td>1930</td>\n",
       "      <td>15749.0</td>\n",
       "      <td>United Kingdom</td>\n",
       "      <td>24530.3</td>\n",
       "      <td>2019</td>\n",
       "      <td>4</td>\n",
       "    </tr>\n",
       "    <tr>\n",
       "      <th>483799</th>\n",
       "      <td>540815</td>\n",
       "      <td>1/11/2019</td>\n",
       "      <td>85123A</td>\n",
       "      <td>Cream Hanging Heart T-Light Holder</td>\n",
       "      <td>12.86</td>\n",
       "      <td>1930</td>\n",
       "      <td>15749.0</td>\n",
       "      <td>United Kingdom</td>\n",
       "      <td>24819.8</td>\n",
       "      <td>2019</td>\n",
       "      <td>1</td>\n",
       "    </tr>\n",
       "    <tr>\n",
       "      <th>376378</th>\n",
       "      <td>550461</td>\n",
       "      <td>4/18/2019</td>\n",
       "      <td>21175</td>\n",
       "      <td>Gin And Tonic Diet Metal Sign</td>\n",
       "      <td>11.98</td>\n",
       "      <td>2000</td>\n",
       "      <td>15749.0</td>\n",
       "      <td>United Kingdom</td>\n",
       "      <td>23960.0</td>\n",
       "      <td>2019</td>\n",
       "      <td>4</td>\n",
       "    </tr>\n",
       "    <tr>\n",
       "      <th>483800</th>\n",
       "      <td>540815</td>\n",
       "      <td>1/11/2019</td>\n",
       "      <td>21175</td>\n",
       "      <td>Gin And Tonic Diet Metal Sign</td>\n",
       "      <td>12.15</td>\n",
       "      <td>2000</td>\n",
       "      <td>15749.0</td>\n",
       "      <td>United Kingdom</td>\n",
       "      <td>24300.0</td>\n",
       "      <td>2019</td>\n",
       "      <td>1</td>\n",
       "    </tr>\n",
       "    <tr>\n",
       "      <th>376379</th>\n",
       "      <td>550461</td>\n",
       "      <td>4/18/2019</td>\n",
       "      <td>21108</td>\n",
       "      <td>Fairy Cake Flannel Assorted Colour</td>\n",
       "      <td>12.40</td>\n",
       "      <td>3114</td>\n",
       "      <td>15749.0</td>\n",
       "      <td>United Kingdom</td>\n",
       "      <td>38613.6</td>\n",
       "      <td>2019</td>\n",
       "      <td>4</td>\n",
       "    </tr>\n",
       "    <tr>\n",
       "      <th>483801</th>\n",
       "      <td>540815</td>\n",
       "      <td>1/11/2019</td>\n",
       "      <td>21108</td>\n",
       "      <td>Fairy Cake Flannel Assorted Colour</td>\n",
       "      <td>12.40</td>\n",
       "      <td>3114</td>\n",
       "      <td>15749.0</td>\n",
       "      <td>United Kingdom</td>\n",
       "      <td>38613.6</td>\n",
       "      <td>2019</td>\n",
       "      <td>1</td>\n",
       "    </tr>\n",
       "  </tbody>\n",
       "</table>\n",
       "</div>"
      ],
      "text/plain": [
       "       TransactionNo       Date ProductNo                         ProductName  \\\n",
       "378552       C550456  4/18/2019     21108  Fairy Cake Flannel Assorted Colour   \n",
       "378551       C550456  4/18/2019     21175       Gin And Tonic Diet Metal Sign   \n",
       "378550       C550456  4/18/2019    85123A  Cream Hanging Heart T-Light Holder   \n",
       "378549       C550456  4/18/2019    47566B              Tea Time Party Bunting   \n",
       "378548       C550456  4/18/2019     48185                  Doormat Fairy Cake   \n",
       "376377        550461  4/18/2019     48185                  Doormat Fairy Cake   \n",
       "483860        540818  1/11/2019     48185                  Doormat Fairy Cake   \n",
       "376376        550461  4/18/2019    47556B                 Tea Time Tea Towels   \n",
       "483859        540818  1/11/2019    47556B                 Tea Time Tea Towels   \n",
       "376375        550461  4/18/2019    85123A  Cream Hanging Heart T-Light Holder   \n",
       "483799        540815  1/11/2019    85123A  Cream Hanging Heart T-Light Holder   \n",
       "376378        550461  4/18/2019     21175       Gin And Tonic Diet Metal Sign   \n",
       "483800        540815  1/11/2019     21175       Gin And Tonic Diet Metal Sign   \n",
       "376379        550461  4/18/2019     21108  Fairy Cake Flannel Assorted Colour   \n",
       "483801        540815  1/11/2019     21108  Fairy Cake Flannel Assorted Colour   \n",
       "\n",
       "        Price  Quantity  CustomerNo         Country    total  year  month  \n",
       "378552  12.40     -3114     15749.0  United Kingdom -38613.6  2019      4  \n",
       "378551  12.15     -2000     15749.0  United Kingdom -24300.0  2019      4  \n",
       "378550  12.86     -1930     15749.0  United Kingdom -24819.8  2019      4  \n",
       "378549  12.86     -1300     15749.0  United Kingdom -16718.0  2019      4  \n",
       "378548  17.17      -670     15749.0  United Kingdom -11503.9  2019      4  \n",
       "376377  16.76       670     15749.0  United Kingdom  11229.2  2019      4  \n",
       "483860  17.17       670     15749.0  United Kingdom  11503.9  2019      1  \n",
       "376376  12.40      1300     15749.0  United Kingdom  16120.0  2019      4  \n",
       "483859  12.86      1300     15749.0  United Kingdom  16718.0  2019      1  \n",
       "376375  12.71      1930     15749.0  United Kingdom  24530.3  2019      4  \n",
       "483799  12.86      1930     15749.0  United Kingdom  24819.8  2019      1  \n",
       "376378  11.98      2000     15749.0  United Kingdom  23960.0  2019      4  \n",
       "483800  12.15      2000     15749.0  United Kingdom  24300.0  2019      1  \n",
       "376379  12.40      3114     15749.0  United Kingdom  38613.6  2019      4  \n",
       "483801  12.40      3114     15749.0  United Kingdom  38613.6  2019      1  "
      ]
     },
     "execution_count": 129,
     "metadata": {},
     "output_type": "execute_result"
    }
   ],
   "source": [
    "# now i want to check this 15749.0 customer as he\\she doing a lot of cancelation\n",
    "# I find this customer bought products due not delivery in time after months he canceled his\\her\n",
    "# order because he finds new cheeper deals\n",
    "\n",
    "df[df.CustomerNo == 15749.0].sort_values(\"Quantity\")"
   ]
  },
  {
   "cell_type": "code",
   "execution_count": 130,
   "id": "4c0561d4-5774-43b1-aa5d-7442d386a037",
   "metadata": {
    "tags": []
   },
   "outputs": [
    {
     "data": {
      "text/html": [
       "<div>\n",
       "<style scoped>\n",
       "    .dataframe tbody tr th:only-of-type {\n",
       "        vertical-align: middle;\n",
       "    }\n",
       "\n",
       "    .dataframe tbody tr th {\n",
       "        vertical-align: top;\n",
       "    }\n",
       "\n",
       "    .dataframe thead th {\n",
       "        text-align: right;\n",
       "    }\n",
       "</style>\n",
       "<table border=\"1\" class=\"dataframe\">\n",
       "  <thead>\n",
       "    <tr style=\"text-align: right;\">\n",
       "      <th></th>\n",
       "      <th>TransactionNo</th>\n",
       "      <th>Date</th>\n",
       "      <th>ProductNo</th>\n",
       "      <th>ProductName</th>\n",
       "      <th>Price</th>\n",
       "      <th>Quantity</th>\n",
       "      <th>CustomerNo</th>\n",
       "      <th>Country</th>\n",
       "      <th>total</th>\n",
       "      <th>year</th>\n",
       "      <th>month</th>\n",
       "    </tr>\n",
       "  </thead>\n",
       "  <tbody>\n",
       "    <tr>\n",
       "      <th>473985</th>\n",
       "      <td>541431</td>\n",
       "      <td>1/18/2019</td>\n",
       "      <td>23166</td>\n",
       "      <td>Medium Ceramic Top Storage Jar</td>\n",
       "      <td>11.32</td>\n",
       "      <td>74215</td>\n",
       "      <td>12346.0</td>\n",
       "      <td>United Kingdom</td>\n",
       "      <td>840113.8</td>\n",
       "      <td>2019</td>\n",
       "      <td>1</td>\n",
       "    </tr>\n",
       "    <tr>\n",
       "      <th>475332</th>\n",
       "      <td>C541433</td>\n",
       "      <td>1/18/2019</td>\n",
       "      <td>23166</td>\n",
       "      <td>Medium Ceramic Top Storage Jar</td>\n",
       "      <td>11.32</td>\n",
       "      <td>-74215</td>\n",
       "      <td>12346.0</td>\n",
       "      <td>United Kingdom</td>\n",
       "      <td>-840113.8</td>\n",
       "      <td>2019</td>\n",
       "      <td>1</td>\n",
       "    </tr>\n",
       "  </tbody>\n",
       "</table>\n",
       "</div>"
      ],
      "text/plain": [
       "       TransactionNo       Date ProductNo                     ProductName  \\\n",
       "473985        541431  1/18/2019     23166  Medium Ceramic Top Storage Jar   \n",
       "475332       C541433  1/18/2019     23166  Medium Ceramic Top Storage Jar   \n",
       "\n",
       "        Price  Quantity  CustomerNo         Country     total  year  month  \n",
       "473985  11.32     74215     12346.0  United Kingdom  840113.8  2019      1  \n",
       "475332  11.32    -74215     12346.0  United Kingdom -840113.8  2019      1  "
      ]
     },
     "execution_count": 130,
     "metadata": {},
     "output_type": "execute_result"
    }
   ],
   "source": [
    "# i assume this customer orderer the secound transcation by a miss click or some \n",
    "# technical error \n",
    "\n",
    "df[df.CustomerNo == 12346.0]"
   ]
  },
  {
   "cell_type": "code",
   "execution_count": 136,
   "id": "28bf3c1c-3ee1-4b51-b452-14169509b0de",
   "metadata": {
    "tags": []
   },
   "outputs": [
    {
     "data": {
      "text/html": [
       "<div>\n",
       "<style scoped>\n",
       "    .dataframe tbody tr th:only-of-type {\n",
       "        vertical-align: middle;\n",
       "    }\n",
       "\n",
       "    .dataframe tbody tr th {\n",
       "        vertical-align: top;\n",
       "    }\n",
       "\n",
       "    .dataframe thead th {\n",
       "        text-align: right;\n",
       "    }\n",
       "</style>\n",
       "<table border=\"1\" class=\"dataframe\">\n",
       "  <thead>\n",
       "    <tr style=\"text-align: right;\">\n",
       "      <th></th>\n",
       "      <th>TransactionNo</th>\n",
       "      <th>Date</th>\n",
       "      <th>ProductNo</th>\n",
       "      <th>ProductName</th>\n",
       "      <th>Price</th>\n",
       "      <th>Quantity</th>\n",
       "      <th>CustomerNo</th>\n",
       "      <th>Country</th>\n",
       "      <th>total</th>\n",
       "      <th>year</th>\n",
       "      <th>month</th>\n",
       "    </tr>\n",
       "  </thead>\n",
       "  <tbody>\n",
       "    <tr>\n",
       "      <th>0</th>\n",
       "      <td>581482</td>\n",
       "      <td>12/9/2019</td>\n",
       "      <td>22485</td>\n",
       "      <td>Set Of 2 Wooden Market Crates</td>\n",
       "      <td>21.47</td>\n",
       "      <td>12</td>\n",
       "      <td>17490.0</td>\n",
       "      <td>United Kingdom</td>\n",
       "      <td>257.64</td>\n",
       "      <td>2019</td>\n",
       "      <td>12</td>\n",
       "    </tr>\n",
       "    <tr>\n",
       "      <th>1</th>\n",
       "      <td>581475</td>\n",
       "      <td>12/9/2019</td>\n",
       "      <td>22596</td>\n",
       "      <td>Christmas Star Wish List Chalkboard</td>\n",
       "      <td>10.65</td>\n",
       "      <td>36</td>\n",
       "      <td>13069.0</td>\n",
       "      <td>United Kingdom</td>\n",
       "      <td>383.40</td>\n",
       "      <td>2019</td>\n",
       "      <td>12</td>\n",
       "    </tr>\n",
       "    <tr>\n",
       "      <th>2</th>\n",
       "      <td>581475</td>\n",
       "      <td>12/9/2019</td>\n",
       "      <td>23235</td>\n",
       "      <td>Storage Tin Vintage Leaf</td>\n",
       "      <td>11.53</td>\n",
       "      <td>12</td>\n",
       "      <td>13069.0</td>\n",
       "      <td>United Kingdom</td>\n",
       "      <td>138.36</td>\n",
       "      <td>2019</td>\n",
       "      <td>12</td>\n",
       "    </tr>\n",
       "    <tr>\n",
       "      <th>3</th>\n",
       "      <td>581475</td>\n",
       "      <td>12/9/2019</td>\n",
       "      <td>23272</td>\n",
       "      <td>Tree T-Light Holder Willie Winkie</td>\n",
       "      <td>10.65</td>\n",
       "      <td>12</td>\n",
       "      <td>13069.0</td>\n",
       "      <td>United Kingdom</td>\n",
       "      <td>127.80</td>\n",
       "      <td>2019</td>\n",
       "      <td>12</td>\n",
       "    </tr>\n",
       "    <tr>\n",
       "      <th>4</th>\n",
       "      <td>581475</td>\n",
       "      <td>12/9/2019</td>\n",
       "      <td>23239</td>\n",
       "      <td>Set Of 4 Knick Knack Tins Poppies</td>\n",
       "      <td>11.94</td>\n",
       "      <td>6</td>\n",
       "      <td>13069.0</td>\n",
       "      <td>United Kingdom</td>\n",
       "      <td>71.64</td>\n",
       "      <td>2019</td>\n",
       "      <td>12</td>\n",
       "    </tr>\n",
       "  </tbody>\n",
       "</table>\n",
       "</div>"
      ],
      "text/plain": [
       "  TransactionNo       Date ProductNo                          ProductName  \\\n",
       "0        581482  12/9/2019     22485        Set Of 2 Wooden Market Crates   \n",
       "1        581475  12/9/2019     22596  Christmas Star Wish List Chalkboard   \n",
       "2        581475  12/9/2019     23235             Storage Tin Vintage Leaf   \n",
       "3        581475  12/9/2019     23272    Tree T-Light Holder Willie Winkie   \n",
       "4        581475  12/9/2019     23239    Set Of 4 Knick Knack Tins Poppies   \n",
       "\n",
       "   Price  Quantity  CustomerNo         Country   total  year  month  \n",
       "0  21.47        12     17490.0  United Kingdom  257.64  2019     12  \n",
       "1  10.65        36     13069.0  United Kingdom  383.40  2019     12  \n",
       "2  11.53        12     13069.0  United Kingdom  138.36  2019     12  \n",
       "3  10.65        12     13069.0  United Kingdom  127.80  2019     12  \n",
       "4  11.94         6     13069.0  United Kingdom   71.64  2019     12  "
      ]
     },
     "execution_count": 136,
     "metadata": {},
     "output_type": "execute_result"
    }
   ],
   "source": [
    "df.head()"
   ]
  },
  {
   "cell_type": "code",
   "execution_count": 138,
   "id": "36456cbb-0fea-42ee-a538-20e17459c606",
   "metadata": {
    "tags": []
   },
   "outputs": [],
   "source": [
    "df19 = df[df.year == 2019]"
   ]
  },
  {
   "cell_type": "code",
   "execution_count": 139,
   "id": "a4d861c0-8afe-4614-9343-30c00d167031",
   "metadata": {
    "tags": []
   },
   "outputs": [
    {
     "data": {
      "text/plain": [
       "month\n",
       "1     2797971.25\n",
       "2     3291955.62\n",
       "3     4339649.36\n",
       "4     3405988.90\n",
       "5     4521865.67\n",
       "6     4401861.55\n",
       "7     4495987.99\n",
       "8     4605702.03\n",
       "9     6529256.45\n",
       "10    6964999.33\n",
       "11    7712836.31\n",
       "12     988655.04\n",
       "Name: total, dtype: float64"
      ]
     },
     "execution_count": 139,
     "metadata": {},
     "output_type": "execute_result"
    }
   ],
   "source": [
    "# finding total of sales over months with groupby\n",
    "months = df19.groupby(\"month\")\n",
    "total = months.sum()[\"total\"]\n",
    "total"
   ]
  },
  {
   "cell_type": "code",
   "execution_count": 140,
   "id": "c97e533e-a7ec-420d-9795-a1830a847cb4",
   "metadata": {
    "tags": []
   },
   "outputs": [
    {
     "data": {
      "image/png": "[encoded data removed]",
      "text/plain": [
       "<Figure size 640x480 with 1 Axes>"
      ]
     },
     "metadata": {},
     "output_type": "display_data"
    }
   ],
   "source": [
    "plt.bar(total.index,total)\n",
    "plt.xlabel(\"Months\")\n",
    "plt.ylabel(\"sells in Millions\")\n",
    "plt.title(\"Sell trend over months (2019)\")\n",
    "\n",
    "\n",
    "\n",
    "plt.tight_layout()\n",
    "plt.show()"
   ]
  },
  {
   "cell_type": "code",
   "execution_count": 145,
   "id": "e8e2c94a-38e2-43b7-a918-ca7868e93959",
   "metadata": {
    "tags": []
   },
   "outputs": [],
   "source": [
    "# making a group of all products and getting top 5 sum of quantities\n",
    "# and getting top ten most frequently sold products\n",
    "products = df19.groupby(\"ProductName\")\n",
    "top_5_products = products.sum()[\"Quantity\"].sort_values(ascending=False)[:5]\n",
    "top_5_products.sort_values(inplace=True)"
   ]
  },
  {
   "cell_type": "code",
   "execution_count": 146,
   "id": "2ef35c8d-a8c8-494f-9500-204977be56a2",
   "metadata": {
    "tags": []
   },
   "outputs": [
    {
     "data": {
      "image/png": "[encoded data removed]",
      "text/plain": [
       "<Figure size 640x480 with 1 Axes>"
      ]
     },
     "metadata": {},
     "output_type": "display_data"
    }
   ],
   "source": [
    "plt.barh(top_5_products.index,top_5_products)\n",
    "\n",
    "plt.xlabel(\"Product Sold Count\")\n",
    "plt.ylabel(\"Products Name\")\n",
    "plt.title(\"Top 5 Frequently sold Products (2019)\")\n",
    "\n",
    "\n",
    "plt.show()"
   ]
  },
  {
   "cell_type": "code",
   "execution_count": 148,
   "id": "faa9cc0a-528b-4da3-8893-045fb24ba342",
   "metadata": {
    "tags": []
   },
   "outputs": [
    {
     "data": {
      "text/plain": [
       "count    21350.000000\n",
       "mean        22.931288\n",
       "std         42.973177\n",
       "min          1.000000\n",
       "25%          3.000000\n",
       "50%         12.000000\n",
       "75%         26.000000\n",
       "max       1110.000000\n",
       "Name: ProductNo, dtype: float64"
      ]
     },
     "execution_count": 148,
     "metadata": {},
     "output_type": "execute_result"
    }
   ],
   "source": [
    "# Creating a transaction group and counting product numbers\n",
    "# describing it for better exploration of data\n",
    "\n",
    "trans = df19.groupby(\"TransactionNo\").count()[\"ProductNo\"].sort_values(ascending=False)\n",
    "trans.describe()"
   ]
  },
  {
   "cell_type": "code",
   "execution_count": 149,
   "id": "8a93bf40-ea46-436f-b17c-fa234116f9bb",
   "metadata": {
    "tags": []
   },
   "outputs": [
    {
     "data": {
      "text/plain": [
       "TransactionNo\n",
       "573585     1110\n",
       "581219      747\n",
       "581492      730\n",
       "580729      719\n",
       "558475      704\n",
       "           ... \n",
       "C553536       1\n",
       "571182        1\n",
       "C553558       1\n",
       "571181        1\n",
       "C556011       1\n",
       "Name: ProductNo, Length: 21350, dtype: int64"
      ]
     },
     "execution_count": 149,
     "metadata": {},
     "output_type": "execute_result"
    }
   ],
   "source": [
    "trans"
   ]
  },
  {
   "cell_type": "code",
   "execution_count": 150,
   "id": "ddc1ded7-6480-4d64-bd66-5c55930fbbf5",
   "metadata": {
    "tags": []
   },
   "outputs": [
    {
     "data": {
      "text/plain": [
       "<AxesSubplot:xlabel='ProductNo', ylabel='Count'>"
      ]
     },
     "execution_count": 150,
     "metadata": {},
     "output_type": "execute_result"
    },
    {
     "data": {
      "image/png": "[encoded data removed]",
      "text/plain": [
       "<Figure size 640x480 with 1 Axes>"
      ]
     },
     "metadata": {},
     "output_type": "display_data"
    }
   ],
   "source": [
    "# creating a line plot using seaborn for better understaning of Data\n",
    "\n",
    "sns.histplot(trans,kde=True)"
   ]
  },
  {
   "cell_type": "code",
   "execution_count": 152,
   "id": "05e8d7fd-d2fd-4e05-8f44-6356056699db",
   "metadata": {
    "tags": []
   },
   "outputs": [
    {
     "data": {
      "text/plain": [
       "CustomerNo\n",
       "14646.0    2034288.91\n",
       "12415.0     895267.24\n",
       "17450.0     866310.31\n",
       "14911.0     836048.25\n",
       "18102.0     799971.29\n",
       "Name: total, dtype: float64"
      ]
     },
     "execution_count": 152,
     "metadata": {},
     "output_type": "execute_result"
    }
   ],
   "source": [
    "# creating a customers group and take sum of their total purchase they have\n",
    "# to see which customers have the most profit and creating top 5\n",
    "customers = df19.groupby(\"CustomerNo\")\n",
    "top_5_cust = customers.sum()[\"total\"].sort_values(ascending=False).iloc[:5]\n",
    "top_5_cust"
   ]
  },
  {
   "cell_type": "code",
   "execution_count": 154,
   "id": "159e4fbd-2936-4560-89ce-f4f23fe5fd06",
   "metadata": {
    "tags": []
   },
   "outputs": [],
   "source": [
    "# creating top 5 customer dataframe\n",
    "top_5cus = df19[df19.CustomerNo.isin([14646.0,12415.0,17450.0,14911.0,18102.0])]"
   ]
  },
  {
   "cell_type": "code",
   "execution_count": 159,
   "id": "e1c8f850-85ff-4720-a3ab-b6b0f2db0d13",
   "metadata": {
    "tags": []
   },
   "outputs": [
    {
     "data": {
      "text/plain": [
       "5431886.0"
      ]
     },
     "execution_count": 159,
     "metadata": {},
     "output_type": "execute_result"
    }
   ],
   "source": [
    "# checking their total transactions\n",
    "top_5cus.total.sum()"
   ]
  },
  {
   "cell_type": "code",
   "execution_count": 173,
   "id": "b9476f5e-704d-45e6-a76c-c61c26a5d52e",
   "metadata": {
    "tags": []
   },
   "outputs": [],
   "source": [
    "# creating top 10 products they bought the most\n",
    "\n",
    "top10pro = top_5cus.groupby(\"ProductName\")[\"Quantity\"].sum().sort_values(ascending=False)[:10]\n",
    "top10pro.sort_values(inplace=True)"
   ]
  },
  {
   "cell_type": "code",
   "execution_count": 176,
   "id": "50f411ea-98ff-45c3-946a-b7b004065b79",
   "metadata": {
    "tags": []
   },
   "outputs": [
    {
     "data": {
      "image/png": "[encoded data removed]",
      "text/plain": [
       "<Figure size 640x480 with 1 Axes>"
      ]
     },
     "metadata": {},
     "output_type": "display_data"
    }
   ],
   "source": [
    "plt.barh(top10pro.index,top10pro)\n",
    "plt.title(\"Top Ten Products bought the most by business owners\")\n",
    "plt.xlabel(\"Count\")\n",
    "plt.ylabel(\"Product Name\")\n",
    "\n",
    "\n",
    "plt.show()"
   ]
  },
  {
   "cell_type": "code",
   "execution_count": 190,
   "id": "993757f7-d386-4497-b933-4225fd895bc8",
   "metadata": {
    "tags": []
   },
   "outputs": [],
   "source": [
    "top_cancel_p = top_5cus[top_5cus.Quantity < 0].sort_values(\"Quantity\")\n",
    "top_5C = top_cancel_p.groupby(\"ProductName\").Quantity.sum().sort_values()[:5]"
   ]
  },
  {
   "cell_type": "code",
   "execution_count": 196,
   "id": "0a520cf7-ae8a-4882-99c0-b33d466d54ac",
   "metadata": {
    "tags": []
   },
   "outputs": [],
   "source": [
    "top_5C.sort_values(inplace=True,ascending=False)"
   ]
  },
  {
   "cell_type": "code",
   "execution_count": 198,
   "id": "c47b09c8-da30-4fa1-adf3-3e0adf686920",
   "metadata": {
    "tags": []
   },
   "outputs": [
    {
     "data": {
      "image/png": "[encoded data removed]",
      "text/plain": [
       "<Figure size 640x480 with 1 Axes>"
      ]
     },
     "metadata": {},
     "output_type": "display_data"
    }
   ],
   "source": [
    "plt.barh(top_5C.index,abs(top_5C))\n",
    "\n",
    "plt.title(\"Top 5 Products that Canceled a lot\")\n",
    "plt.xlabel(\"Count\")\n",
    "plt.ylabel(\"Products Name\")\n",
    "\n",
    "plt.show()"
   ]
  },
  {
   "cell_type": "markdown",
   "id": "a554ecec-1286-4747-af0a-0fb01510a3a1",
   "metadata": {},
   "source": [
    "## Based on your findings, what strategy could you recommend to the business to gain more profit?"
   ]
  },
  {
   "cell_type": "markdown",
   "id": "46aac577-020e-4eff-b847-30fd0d2798c2",
   "metadata": {},
   "source": [
    "\n",
    "## summary\n",
    "\n",
    "based on my finding I recommend having top 10 products that top customers buy \n",
    " and having top products which canceled a lot in stuck for prevending any cancelation\n",
    " and delivery on time to prevent any cancelation. only in 2019 we have over 2.4 million pound sterling (£)\n",
    " cancelation\n",
    " \n",
    " I find most of the business owners canceled and bought the same product after 3 months or more because \n",
    " we were out of stuck. and the price of product decreased by little so they cancel and ordered again \n",
    " \n",
    " \n",
    " first we should not go out of those 15 products which i listed above \n",
    " secound by just small percent of discount on these product we can sell lots of them to these business owners"
   ]
  },
  {
   "cell_type": "code",
   "execution_count": 199,
   "id": "a5b76f57-feec-4281-b064-d86eaa01b1a2",
   "metadata": {
    "tags": []
   },
   "outputs": [
    {
     "data": {
      "text/plain": [
       "-2484176.75"
      ]
     },
     "execution_count": 199,
     "metadata": {},
     "output_type": "execute_result"
    }
   ],
   "source": [
    "df19[df19.total < 0][\"total\"].sum()"
   ]
  }
 ],
 "metadata": {
  "kernelspec": {
   "display_name": "Python 3 (ipykernel)",
   "language": "python",
   "name": "python3"
  },
  "language_info": {
   "codemirror_mode": {
    "name": "ipython",
    "version": 3
   },
   "file_extension": ".py",
   "mimetype": "text/x-python",
   "name": "python",
   "nbconvert_exporter": "python",
   "pygments_lexer": "ipython3",
   "version": "3.10.6"
  }
 },
 "nbformat": 4,
 "nbformat_minor": 5
}
